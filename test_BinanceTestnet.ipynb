{
 "cells": [
  {
   "cell_type": "code",
   "execution_count": 10,
   "id": "6866b3b2",
   "metadata": {},
   "outputs": [
    {
     "name": "stdout",
     "output_type": "stream",
     "text": [
      "106040.01\n"
     ]
    }
   ],
   "source": [
    "import ccxt\n",
    "\n",
    "binance = ccxt.binance()\n",
    "ticker = binance.fetch_ticker('BTC/USDT')\n",
    "print(ticker.get('last'))"
   ]
  },
  {
   "cell_type": "code",
   "execution_count": null,
   "id": "93249684",
   "metadata": {},
   "outputs": [
    {
     "name": "stdout",
     "output_type": "stream",
     "text": [
      "{'makerCommission': 0, 'takerCommission': 0, 'buyerCommission': 0, 'sellerCommission': 0, 'commissionRates': {'maker': '0.00000000', 'taker': '0.00000000', 'buyer': '0.00000000', 'seller': '0.00000000'}, 'canTrade': True, 'canWithdraw': True, 'canDeposit': True, 'brokered': False, 'requireSelfTradePrevention': False, 'preventSor': False, 'updateTime': 1748979860214, 'accountType': 'SPOT', 'balances': [{'asset': 'ETH', 'free': '1.00000000', 'locked': '0.00000000'}, {'asset': 'BTC', 'free': '1.00000000', 'locked': '0.00000000'}, {'asset': 'LTC', 'free': '5.00000000', 'locked': '0.00000000'}, {'asset': 'BNB', 'free': '1.00000000', 'locked': '0.00000000'}, {'asset': 'USDT', 'free': '10000.00000000', 'locked': '0.00000000'}, {'asset': 'TRX', 'free': '2022.00000000', 'locked': '0.00000000'}, {'asset': 'XRP', 'free': '233.00000000', 'locked': '0.00000000'}, {'asset': 'NEO', 'free': '89.00000000', 'locked': '0.00000000'}, {'asset': 'QTUM', 'free': '238.00000000', 'locked': '0.00000000'}, {'asset': 'EOS', 'free': '691.00000000', 'locked': '0.00000000'}, {'asset': 'GAS', 'free': '161.00000000', 'locked': '0.00000000'}, {'asset': 'LRC', 'free': '4859.00000000', 'locked': '0.00000000'}, {'asset': 'ZRX', 'free': '1978.00000000', 'locked': '0.00000000'}, {'asset': 'KNC', 'free': '1459.00000000', 'locked': '0.00000000'}, {'asset': 'IOTA', 'free': '2402.00000000', 'locked': '0.00000000'}, {'asset': 'LINK', 'free': '36.00000000', 'locked': '0.00000000'}, {'asset': 'XVG', 'free': '18446.00000000', 'locked': '0.00000000'}, {'asset': 'MTL', 'free': '633.00000000', 'locked': '0.00000000'}, {'asset': 'ETC', 'free': '30.00000000', 'locked': '0.00000000'}, {'asset': 'ZEC', 'free': '13.00000000', 'locked': '0.00000000'}, {'asset': 'DASH', 'free': '23.00000000', 'locked': '0.00000000'}, {'asset': 'REQ', 'free': '3614.00000000', 'locked': '0.00000000'}, {'asset': 'POWR', 'free': '2957.00000000', 'locked': '0.00000000'}, {'asset': 'ENJ', 'free': '6688.00000000', 'locked': '0.00000000'}, {'asset': 'STORJ', 'free': '1813.00000000', 'locked': '0.00000000'}, {'asset': 'KMD', 'free': '3567.00000000', 'locked': '0.00000000'}, {'asset': 'BAT', 'free': '3613.00000000', 'locked': '0.00000000'}, {'asset': 'LSK', 'free': '1046.00000000', 'locked': '0.00000000'}, {'asset': 'MANA', 'free': '1677.00000000', 'locked': '0.00000000'}, {'asset': 'ADX', 'free': '5111.00000000', 'locked': '0.00000000'}, {'asset': 'ADA', 'free': '734.00000000', 'locked': '0.00000000'}, {'asset': 'XLM', 'free': '1910.00000000', 'locked': '0.00000000'}, {'asset': 'ICX', 'free': '5216.00000000', 'locked': '0.00000000'}, {'asset': 'RLC', 'free': '455.00000000', 'locked': '0.00000000'}, {'asset': 'PIVX', 'free': '3045.00000000', 'locked': '0.00000000'}, {'asset': 'STEEM', 'free': '3586.00000000', 'locked': '0.00000000'}, {'asset': 'ZIL', 'free': '18446.00000000', 'locked': '0.00000000'}, {'asset': 'ONT', 'free': '3556.00000000', 'locked': '0.00000000'}, {'asset': 'WAN', 'free': '4524.00000000', 'locked': '0.00000000'}, {'asset': 'SYS', 'free': '10071.00000000', 'locked': '0.00000000'}, {'asset': 'TUSD', 'free': '10000.00000000', 'locked': '0.00000000'}, {'asset': 'ZEN', 'free': '59.00000000', 'locked': '0.00000000'}, {'asset': 'THETA', 'free': '695.00000000', 'locked': '0.00000000'}, {'asset': 'IOTX', 'free': '18446.00000000', 'locked': '0.00000000'}, {'asset': 'DATA', 'free': '18446.00000000', 'locked': '0.00000000'}, {'asset': 'SC', 'free': '18446.00000000', 'locked': '0.00000000'}, {'asset': 'DENT', 'free': '18446.00000000', 'locked': '0.00000000'}, {'asset': 'ARDR', 'free': '5208.00000000', 'locked': '0.00000000'}, {'asset': 'HOT', 'free': '18446.00000000', 'locked': '0.00000000'}, {'asset': 'VET', 'free': '18446.00000000', 'locked': '0.00000000'}, {'asset': 'RVN', 'free': '18446.00000000', 'locked': '0.00000000'}, {'asset': 'USDC', 'free': '10000.00000000', 'locked': '0.00000000'}, {'asset': 'ONG', 'free': '2564.00000000', 'locked': '0.00000000'}, {'asset': 'FET', 'free': '726.00000000', 'locked': '0.00000000'}, {'asset': 'IOST', 'free': '18446.00000000', 'locked': '0.00000000'}, {'asset': 'CELR', 'free': '18446.00000000', 'locked': '0.00000000'}, {'asset': 'ATOM', 'free': '120.00000000', 'locked': '0.00000000'}, {'asset': 'PHB', 'free': '963.00000000', 'locked': '0.00000000'}, {'asset': 'TFUEL', 'free': '14245.00000000', 'locked': '0.00000000'}, {'asset': 'ONE', 'free': '18446.00000000', 'locked': '0.00000000'}, {'asset': 'ALGO', 'free': '2504.00000000', 'locked': '0.00000000'}, {'asset': 'DOGE', 'free': '2887.00000000', 'locked': '0.00000000'}, {'asset': 'DUSK', 'free': '6491.00000000', 'locked': '0.00000000'}, {'asset': 'ANKR', 'free': '18446.00000000', 'locked': '0.00000000'}, {'asset': 'WIN', 'free': '18446.00000000', 'locked': '0.00000000'}, {'asset': 'COS', 'free': '18446.00000000', 'locked': '0.00000000'}, {'asset': 'FUN', 'free': '18446.00000000', 'locked': '0.00000000'}, {'asset': 'CVC', 'free': '4863.00000000', 'locked': '0.00000000'}, {'asset': 'CHZ', 'free': '12722.00000000', 'locked': '0.00000000'}, {'asset': 'BAND', 'free': '678.00000000', 'locked': '0.00000000'}, {'asset': 'XTZ', 'free': '922.00000000', 'locked': '0.00000000'}, {'asset': 'HBAR', 'free': '2829.00000000', 'locked': '0.00000000'}, {'asset': 'NKN', 'free': '13168.00000000', 'locked': '0.00000000'}, {'asset': 'STX', 'free': '571.00000000', 'locked': '0.00000000'}, {'asset': 'KAVA', 'free': '1143.00000000', 'locked': '0.00000000'}, {'asset': 'ARPA', 'free': '18446.00000000', 'locked': '0.00000000'}, {'asset': 'BCH', 'free': '1.00000000', 'locked': '0.00000000'}, {'asset': 'FTT', 'free': '484.00000000', 'locked': '0.00000000'}, {'asset': 'TRY', 'free': '18466.00000000', 'locked': '0.00000000'}, {'asset': 'EUR', 'free': '440.00000000', 'locked': '0.00000000'}, {'asset': 'OGN', 'free': '8912.00000000', 'locked': '0.00000000'}, {'asset': 'BNT', 'free': '1048.00000000', 'locked': '0.00000000'}, {'asset': 'LTO', 'free': '11719.00000000', 'locked': '0.00000000'}, {'asset': 'MBL', 'free': '18446.00000000', 'locked': '0.00000000'}, {'asset': 'COTI', 'free': '6765.00000000', 'locked': '0.00000000'}, {'asset': 'STPT', 'free': '6415.00000000', 'locked': '0.00000000'}, {'asset': 'ZAR', 'free': '18466.00000000', 'locked': '0.00000000'}, {'asset': 'SOL', 'free': '3.00000000', 'locked': '0.00000000'}, {'asset': 'CTSI', 'free': '8274.00000000', 'locked': '0.00000000'}, {'asset': 'HIVE', 'free': '2112.00000000', 'locked': '0.00000000'}, {'asset': 'CHR', 'free': '6059.00000000', 'locked': '0.00000000'}, {'asset': 'MDT', 'free': '16639.00000000', 'locked': '0.00000000'}, {'asset': 'UAH', 'free': '18466.00000000', 'locked': '0.00000000'}, {'asset': 'COMP', 'free': '12.00000000', 'locked': '0.00000000'}, {'asset': 'SXP', 'free': '2636.00000000', 'locked': '0.00000000'}, {'asset': 'SNX', 'free': '767.00000000', 'locked': '0.00000000'}, {'asset': 'VTHO', 'free': '18446.00000000', 'locked': '0.00000000'}, {'asset': 'DGB', 'free': '18446.00000000', 'locked': '0.00000000'}, {'asset': 'MKR', 'free': '1.00000000', 'locked': '0.00000000'}, {'asset': 'RUNE', 'free': '399.00000000', 'locked': '0.00000000'}, {'asset': 'DCR', 'free': '38.00000000', 'locked': '0.00000000'}, {'asset': 'FIO', 'free': '18446.00000000', 'locked': '0.00000000'}, {'asset': 'AVA', 'free': '874.00000000', 'locked': '0.00000000'}, {'asset': 'YFI', 'free': '1.00000000', 'locked': '0.00000000'}, {'asset': 'DAI', 'free': '10000.00000000', 'locked': '0.00000000'}, {'asset': 'JST', 'free': '14648.00000000', 'locked': '0.00000000'}, {'asset': 'CRV', 'free': '746.00000000', 'locked': '0.00000000'}, {'asset': 'SAND', 'free': '1831.00000000', 'locked': '0.00000000'}, {'asset': 'NMR', 'free': '59.00000000', 'locked': '0.00000000'}, {'asset': 'DOT', 'free': '126.00000000', 'locked': '0.00000000'}, {'asset': 'LUNA', 'free': '3012.00000000', 'locked': '0.00000000'}, {'asset': 'RSR', 'free': '18446.00000000', 'locked': '0.00000000'}, {'asset': 'PAXG', 'free': '1.00000000', 'locked': '0.00000000'}, {'asset': 'TRB', 'free': '18.00000000', 'locked': '0.00000000'}, {'asset': 'WBTC', 'free': '1.00000000', 'locked': '0.00000000'}, {'asset': 'SUSHI', 'free': '829.00000000', 'locked': '0.00000000'}, {'asset': 'KSM', 'free': '34.00000000', 'locked': '0.00000000'}, {'asset': 'EGLD', 'free': '32.00000000', 'locked': '0.00000000'}, {'asset': 'DIA', 'free': '1014.00000000', 'locked': '0.00000000'}, {'asset': 'UMA', 'free': '447.00000000', 'locked': '0.00000000'}, {'asset': 'BEL', 'free': '1550.00000000', 'locked': '0.00000000'}, {'asset': 'UNI', 'free': '103.00000000', 'locked': '0.00000000'}, {'asset': 'OXT', 'free': '7580.00000000', 'locked': '0.00000000'}, {'asset': 'SUN', 'free': '18446.00000000', 'locked': '0.00000000'}, {'asset': 'AVAX', 'free': '25.00000000', 'locked': '0.00000000'}, {'asset': 'FLM', 'free': '16861.00000000', 'locked': '0.00000000'}, {'asset': 'SCRT', 'free': '2436.00000000', 'locked': '0.00000000'}, {'asset': 'CAKE', 'free': '244.00000000', 'locked': '0.00000000'}, {'asset': 'UTK', 'free': '15000.00000000', 'locked': '0.00000000'}, {'asset': 'XVS', 'free': '86.00000000', 'locked': '0.00000000'}, {'asset': 'ALPHA', 'free': '18031.00000000', 'locked': '0.00000000'}, {'asset': 'BRL', 'free': '97.00000000', 'locked': '0.00000000'}, {'asset': 'AAVE', 'free': '2.00000000', 'locked': '0.00000000'}, {'asset': 'NEAR', 'free': '215.00000000', 'locked': '0.00000000'}, {'asset': 'FIL', 'free': '193.00000000', 'locked': '0.00000000'}, {'asset': 'INJ', 'free': '52.00000000', 'locked': '0.00000000'}, {'asset': 'AUDIO', 'free': '7080.00000000', 'locked': '0.00000000'}, {'asset': 'CTK', 'free': '1403.00000000', 'locked': '0.00000000'}, {'asset': 'AXS', 'free': '212.00000000', 'locked': '0.00000000'}, {'asset': 'SLP', 'free': '18446.00000000', 'locked': '0.00000000'}, {'asset': 'STRAX', 'free': '9739.00000000', 'locked': '0.00000000'}, {'asset': 'ROSE', 'free': '18162.00000000', 'locked': '0.00000000'}, {'asset': 'SKL', 'free': '18446.00000000', 'locked': '0.00000000'}, {'asset': 'GLM', 'free': '1974.00000000', 'locked': '0.00000000'}, {'asset': 'GRT', 'free': '5465.00000000', 'locked': '0.00000000'}, {'asset': 'JUV', 'free': '436.00000000', 'locked': '0.00000000'}, {'asset': 'PSG', 'free': '185.00000000', 'locked': '0.00000000'}, {'asset': '1INCH', 'free': '2617.00000000', 'locked': '0.00000000'}, {'asset': 'OG', 'free': '118.00000000', 'locked': '0.00000000'}, {'asset': 'ATM', 'free': '429.00000000', 'locked': '0.00000000'}, {'asset': 'ASR', 'free': '310.00000000', 'locked': '0.00000000'}, {'asset': 'CELO', 'free': '1533.00000000', 'locked': '0.00000000'}, {'asset': 'RIF', 'free': '11176.00000000', 'locked': '0.00000000'}, {'asset': 'TRU', 'free': '13439.00000000', 'locked': '0.00000000'}, {'asset': 'CKB', 'free': '18446.00000000', 'locked': '0.00000000'}, {'asset': 'TWT', 'free': '648.00000000', 'locked': '0.00000000'}, {'asset': 'SFP', 'free': '958.00000000', 'locked': '0.00000000'}, {'asset': 'DODO', 'free': '11019.00000000', 'locked': '0.00000000'}, {'asset': 'ACM', 'free': '568.00000000', 'locked': '0.00000000'}, {'asset': 'AUCTION', 'free': '44.00000000', 'locked': '0.00000000'}, {'asset': 'PHA', 'free': '4341.00000000', 'locked': '0.00000000'}, {'asset': 'FIS', 'free': '2687.00000000', 'locked': '0.00000000'}, {'asset': 'OM', 'free': '1288.00000000', 'locked': '0.00000000'}, {'asset': 'POND', 'free': '18446.00000000', 'locked': '0.00000000'}, {'asset': 'DEGO', 'free': '299.00000000', 'locked': '0.00000000'}, {'asset': 'ALICE', 'free': '1246.00000000', 'locked': '0.00000000'}, {'asset': 'PERP', 'free': '1665.00000000', 'locked': '0.00000000'}, {'asset': 'SUPER', 'free': '756.00000000', 'locked': '0.00000000'}, {'asset': 'CFX', 'free': '6873.00000000', 'locked': '0.00000000'}, {'asset': 'TKO', 'free': '3152.00000000', 'locked': '0.00000000'}, {'asset': 'PUNDIX', 'free': '1205.00000000', 'locked': '0.00000000'}, {'asset': 'TLM', 'free': '18446.00000000', 'locked': '0.00000000'}, {'asset': 'BAR', 'free': '250.00000000', 'locked': '0.00000000'}, {'asset': 'FORTH', 'free': '190.00000000', 'locked': '0.00000000'}, {'asset': 'BAKE', 'free': '4280.00000000', 'locked': '0.00000000'}, {'asset': 'SHIB', 'free': '18446.00', 'locked': '0.00'}, {'asset': 'ICP', 'free': '108.00000000', 'locked': '0.00000000'}, {'asset': 'AR', 'free': '73.00000000', 'locked': '0.00000000'}, {'asset': 'MASK', 'free': '452.00000000', 'locked': '0.00000000'}, {'asset': 'LPT', 'free': '108.00000000', 'locked': '0.00000000'}, {'asset': 'ATA', 'free': '9453.00000000', 'locked': '0.00000000'}, {'asset': 'GTC', 'free': '1811.00000000', 'locked': '0.00000000'}, {'asset': 'MLN', 'free': '60.00000000', 'locked': '0.00000000'}, {'asset': 'DEXE', 'free': '33.00000000', 'locked': '0.00000000'}, {'asset': 'C98', 'free': '9069.00000000', 'locked': '0.00000000'}, {'asset': 'QNT', 'free': '5.00000000', 'locked': '0.00000000'}, {'asset': 'FLOW', 'free': '1344.00000000', 'locked': '0.00000000'}, {'asset': 'MINA', 'free': '2255.00000000', 'locked': '0.00000000'}, {'asset': 'RAY', 'free': '206.00000000', 'locked': '0.00000000'}, {'asset': 'FARM', 'free': '16.00000000', 'locked': '0.00000000'}, {'asset': 'QUICK', 'free': '18446.00000000', 'locked': '0.00000000'}, {'asset': 'MBOX', 'free': '9577.00000000', 'locked': '0.00000000'}, {'asset': 'GHST', 'free': '1136.00000000', 'locked': '0.00000000'}, {'asset': 'WAXP', 'free': '18446.00000000', 'locked': '0.00000000'}, {'asset': 'GNO', 'free': '4.00000000', 'locked': '0.00000000'}, {'asset': 'XEC', 'free': '18446.00', 'locked': '0.00'}, {'asset': 'DYDX', 'free': '892.00000000', 'locked': '0.00000000'}, {'asset': 'IDEX', 'free': '18446.00000000', 'locked': '0.00000000'}, {'asset': 'USDP', 'free': '500.00000000', 'locked': '0.00000000'}, {'asset': 'GALA', 'free': '18446.00000000', 'locked': '0.00000000'}, {'asset': 'ILV', 'free': '36.00000000', 'locked': '0.00000000'}, {'asset': 'YGG', 'free': '2737.00000000', 'locked': '0.00000000'}, {'asset': 'DF', 'free': '9805.00000000', 'locked': '0.00000000'}, {'asset': 'FIDA', 'free': '7978.00000000', 'locked': '0.00000000'}, {'asset': 'AGLD', 'free': '548.00000000', 'locked': '0.00000000'}, {'asset': 'RAD', 'free': '651.00000000', 'locked': '0.00000000'}, {'asset': 'RARE', 'free': '8457.00000000', 'locked': '0.00000000'}, {'asset': 'SSV', 'free': '78.00000000', 'locked': '0.00000000'}, {'asset': 'LAZIO', 'free': '510.00000000', 'locked': '0.00000000'}, {'asset': 'CHESS', 'free': '8068.00000000', 'locked': '0.00000000'}, {'asset': 'MOVR', 'free': '80.00000000', 'locked': '0.00000000'}, {'asset': 'CITY', 'free': '453.00000000', 'locked': '0.00000000'}, {'asset': 'ENS', 'free': '28.00000000', 'locked': '0.00000000'}, {'asset': 'QI', 'free': '18446.00000000', 'locked': '0.00000000'}, {'asset': 'PORTO', 'free': '498.00000000', 'locked': '0.00000000'}, {'asset': 'JASMY', 'free': '18446.00000000', 'locked': '0.00000000'}, {'asset': 'AMP', 'free': '18446.00000000', 'locked': '0.00000000'}, {'asset': 'PYR', 'free': '452.00000000', 'locked': '0.00000000'}, {'asset': 'ALCX', 'free': '58.00000000', 'locked': '0.00000000'}, {'asset': 'SANTOS', 'free': '212.00000000', 'locked': '0.00000000'}, {'asset': 'BICO', 'free': '4246.00000000', 'locked': '0.00000000'}, {'asset': 'FLUX', 'free': '1876.00000000', 'locked': '0.00000000'}, {'asset': 'FXS', 'free': '250.00000000', 'locked': '0.00000000'}, {'asset': 'VOXEL', 'free': '5560.00000000', 'locked': '0.00000000'}, {'asset': 'HIGH', 'free': '778.00000000', 'locked': '0.00000000'}, {'asset': 'CVX', 'free': '159.00000000', 'locked': '0.00000000'}, {'asset': 'PEOPLE', 'free': '18446.00000000', 'locked': '0.00000000'}, {'asset': 'SPELL', 'free': '18446.00000000', 'locked': '0.00000000'}, {'asset': 'JOE', 'free': '2868.00000000', 'locked': '0.00000000'}, {'asset': 'ACH', 'free': '18446.00000000', 'locked': '0.00000000'}, {'asset': 'IMX', 'free': '932.00000000', 'locked': '0.00000000'}, {'asset': 'GLMR', 'free': '6711.00000000', 'locked': '0.00000000'}, {'asset': 'LOKA', 'free': '6533.00000000', 'locked': '0.00000000'}, {'asset': 'API3', 'free': '683.00000000', 'locked': '0.00000000'}, {'asset': 'BTTC', 'free': '18446.0', 'locked': '0.0'}, {'asset': 'ACA', 'free': '16860.00000000', 'locked': '0.00000000'}, {'asset': 'XNO', 'free': '569.00000000', 'locked': '0.00000000'}, {'asset': 'WOO', 'free': '7528.00000000', 'locked': '0.00000000'}, {'asset': 'ALPINE', 'free': '530.00000000', 'locked': '0.00000000'}, {'asset': 'T', 'free': '18446.00000000', 'locked': '0.00000000'}, {'asset': 'ASTR', 'free': '18446.00000000', 'locked': '0.00000000'}, {'asset': 'GMT', 'free': '9708.00000000', 'locked': '0.00000000'}, {'asset': 'KDA', 'free': '851.00000000', 'locked': '0.00000000'}, {'asset': 'APE', 'free': '1024.00000000', 'locked': '0.00000000'}, {'asset': 'BSW', 'free': '12416.00000000', 'locked': '0.00000000'}, {'asset': 'BIFI', 'free': '2.00000000', 'locked': '0.00000000'}, {'asset': 'NEXO', 'free': '399.00000000', 'locked': '0.00000000'}, {'asset': 'REI', 'free': '18446.00000000', 'locked': '0.00000000'}, {'asset': 'LDO', 'free': '634.00000000', 'locked': '0.00000000'}, {'asset': 'OP', 'free': '834.00000000', 'locked': '0.00000000'}, {'asset': 'LEVER', 'free': '18446.00000000', 'locked': '0.00000000'}, {'asset': 'STG', 'free': '2552.00000000', 'locked': '0.00000000'}, {'asset': 'LUNC', 'free': '18446.00000000', 'locked': '0.00000000'}, {'asset': 'GMX', 'free': '37.00000000', 'locked': '0.00000000'}, {'asset': 'POLYX', 'free': '3550.00000000', 'locked': '0.00000000'}, {'asset': 'APT', 'free': '105.00000000', 'locked': '0.00000000'}, {'asset': 'PLN', 'free': '18466.00000000', 'locked': '0.00000000'}, {'asset': 'OSMO', 'free': '2301.00000000', 'locked': '0.00000000'}, {'asset': 'HFT', 'free': '8182.00000000', 'locked': '0.00000000'}, {'asset': 'HOOK', 'free': '3983.00000000', 'locked': '0.00000000'}, {'asset': 'MAGIC', 'free': '3174.00000000', 'locked': '0.00000000'}, {'asset': 'HIFI', 'free': '1993.00000000', 'locked': '0.00000000'}, {'asset': 'RPL', 'free': '124.00000000', 'locked': '0.00000000'}, {'asset': 'RON', 'free': '18466.00000000', 'locked': '0.00000000'}, {'asset': 'GNS', 'free': '369.00000000', 'locked': '0.00000000'}, {'asset': 'SYN', 'free': '2120.00000000', 'locked': '0.00000000'}, {'asset': 'LQTY', 'free': '794.00000000', 'locked': '0.00000000'}, {'asset': 'USTC', 'free': '18446.00000000', 'locked': '0.00000000'}, {'asset': 'PROM', 'free': '90.00000000', 'locked': '0.00000000'}, {'asset': 'QKC', 'free': '18446.00000000', 'locked': '0.00000000'}, {'asset': 'ID', 'free': '2630.00000000', 'locked': '0.00000000'}, {'asset': 'ARB', 'free': '1630.00000000', 'locked': '0.00000000'}, {'asset': 'RDNT', 'free': '18446.00000000', 'locked': '0.00000000'}, {'asset': 'ARS', 'free': '18466.00000000', 'locked': '0.00000000'}, {'asset': 'EDU', 'free': '3649.00000000', 'locked': '0.00000000'}, {'asset': 'SUI', 'free': '147.00000000', 'locked': '0.00000000'}, {'asset': 'PEPE', 'free': '18446.00', 'locked': '0.00'}, {'asset': 'FLOKI', 'free': '18446.00', 'locked': '0.00'}, {'asset': 'WBETH', 'free': '1.00000000', 'locked': '0.00000000'}, {'asset': 'MAV', 'free': '9163.00000000', 'locked': '0.00000000'}, {'asset': 'PENDLE', 'free': '156.00000000', 'locked': '0.00000000'}, {'asset': 'ARKM', 'free': '984.00000000', 'locked': '0.00000000'}, {'asset': 'WLD', 'free': '534.00000000', 'locked': '0.00000000'}, {'asset': 'FDUSD', 'free': '10000.00000000', 'locked': '0.00000000'}, {'asset': 'SEI', 'free': '2503.00000000', 'locked': '0.00000000'}, {'asset': 'CYBER', 'free': '375.00000000', 'locked': '0.00000000'}, {'asset': 'ARK', 'free': '1247.00000000', 'locked': '0.00000000'}, {'asset': 'IQ', 'free': '18446.00000000', 'locked': '0.00000000'}, {'asset': 'NTRN', 'free': '4030.00000000', 'locked': '0.00000000'}, {'asset': 'TIA', 'free': '207.00000000', 'locked': '0.00000000'}, {'asset': 'MEME', 'free': '18446.00000000', 'locked': '0.00000000'}, {'asset': 'ORDI', 'free': '70.00000000', 'locked': '0.00000000'}, {'asset': 'BEAMX', 'free': '18446.00000000', 'locked': '0.00000000'}, {'asset': 'VIC', 'free': '2390.00000000', 'locked': '0.00000000'}, {'asset': 'BLUR', 'free': '5207.00000000', 'locked': '0.00000000'}, {'asset': 'VANRY', 'free': '17111.00000000', 'locked': '0.00000000'}, {'asset': 'AEUR', 'free': '482.00000000', 'locked': '0.00000000'}, {'asset': 'JTO', 'free': '312.00000000', 'locked': '0.00000000'}, {'asset': '1000SATS', 'free': '18446.00', 'locked': '0.00'}, {'asset': 'BONK', 'free': '18446.00', 'locked': '0.00'}, {'asset': 'ACE', 'free': '932.00000000', 'locked': '0.00000000'}, {'asset': 'NFP', 'free': '7163.00000000', 'locked': '0.00000000'}, {'asset': 'AI', 'free': '3379.00000000', 'locked': '0.00000000'}, {'asset': 'XAI', 'free': '9706.00000000', 'locked': '0.00000000'}, {'asset': 'MANTA', 'free': '2392.00000000', 'locked': '0.00000000'}, {'asset': 'ALT', 'free': '18446.00000000', 'locked': '0.00000000'}, {'asset': 'JUP', 'free': '1182.00000000', 'locked': '0.00000000'}, {'asset': 'PYTH', 'free': '3718.00000000', 'locked': '0.00000000'}, {'asset': 'RONIN', 'free': '1010.00000000', 'locked': '0.00000000'}, {'asset': 'DYM', 'free': '1771.00000000', 'locked': '0.00000000'}, {'asset': 'PIXEL', 'free': '14445.00000000', 'locked': '0.00000000'}, {'asset': 'STRK', 'free': '3804.00000000', 'locked': '0.00000000'}, {'asset': 'PORTAL', 'free': '8051.00000000', 'locked': '0.00000000'}, {'asset': 'AXL', 'free': '1343.00000000', 'locked': '0.00000000'}, {'asset': 'WIF', 'free': '880.00000000', 'locked': '0.00000000'}, {'asset': 'METIS', 'free': '33.00000000', 'locked': '0.00000000'}, {'asset': 'JPY', 'free': '18466.00000000', 'locked': '0.00000000'}, {'asset': 'AEVO', 'free': '4937.00000000', 'locked': '0.00000000'}, {'asset': 'BOME', 'free': '18446.00', 'locked': '0.00'}, {'asset': 'ETHFI', 'free': '963.00000000', 'locked': '0.00000000'}, {'asset': 'ENA', 'free': '1860.00000000', 'locked': '0.00000000'}, {'asset': 'W', 'free': '6385.00000000', 'locked': '0.00000000'}, {'asset': 'TNSR', 'free': '3687.00000000', 'locked': '0.00000000'}, {'asset': 'SAGA', 'free': '1834.00000000', 'locked': '0.00000000'}, {'asset': 'MXN', 'free': '18466.00000000', 'locked': '0.00000000'}, {'asset': 'TAO', 'free': '1.00000000', 'locked': '0.00000000'}, {'asset': 'OMNI', 'free': '234.00000000', 'locked': '0.00000000'}, {'asset': 'REZ', 'free': '18446.00000000', 'locked': '0.00000000'}, {'asset': 'BB', 'free': '4362.00000000', 'locked': '0.00000000'}, {'asset': 'NOT', 'free': '18446.00', 'locked': '0.00'}, {'asset': 'COP', 'free': '18466.00000000', 'locked': '0.00000000'}, {'asset': 'IO', 'free': '687.00000000', 'locked': '0.00000000'}, {'asset': 'ZK', 'free': '9898.00000000', 'locked': '0.00000000'}, {'asset': 'LISTA', 'free': '2867.00000000', 'locked': '0.00000000'}, {'asset': 'ZRO', 'free': '204.00000000', 'locked': '0.00000000'}, {'asset': 'G', 'free': '18446.00000000', 'locked': '0.00000000'}, {'asset': 'BANANA', 'free': '28.00000000', 'locked': '0.00000000'}, {'asset': 'RENDER', 'free': '118.00000000', 'locked': '0.00000000'}, {'asset': 'TON', 'free': '165.00000000', 'locked': '0.00000000'}, {'asset': 'DOGS', 'free': '18446.00', 'locked': '0.00'}, {'asset': 'EURI', 'free': '440.00000000', 'locked': '0.00000000'}, {'asset': 'SLF', 'free': '2616.00000000', 'locked': '0.00000000'}, {'asset': 'POL', 'free': '2275.00000000', 'locked': '0.00000000'}, {'asset': 'NEIRO', 'free': '18446.00', 'locked': '0.00'}, {'asset': 'TURBO', 'free': '18446.00000000', 'locked': '0.00000000'}, {'asset': '1MBABYDOGE', 'free': '18446.00', 'locked': '0.00'}, {'asset': 'CATI', 'free': '6162.00000000', 'locked': '0.00000000'}, {'asset': 'HMSTR', 'free': '18446.00', 'locked': '0.00'}, {'asset': 'EIGEN', 'free': '651.00000000', 'locked': '0.00000000'}, {'asset': 'BNSOL', 'free': '3.00000000', 'locked': '0.00000000'}, {'asset': 'SCR', 'free': '1754.00000000', 'locked': '0.00000000'}, {'asset': 'LUMIA', 'free': '1461.00000000', 'locked': '0.00000000'}, {'asset': 'KAIA', 'free': '4461.00000000', 'locked': '0.00000000'}, {'asset': 'COW', 'free': '1752.00000000', 'locked': '0.00000000'}, {'asset': 'CETUS', 'free': '2620.00000000', 'locked': '0.00000000'}, {'asset': 'PNUT', 'free': '3231.00000000', 'locked': '0.00000000'}, {'asset': 'ACT', 'free': '9797.00000000', 'locked': '0.00000000'}, {'asset': 'USUAL', 'free': '4319.00000000', 'locked': '0.00000000'}, {'asset': 'THE', 'free': '2026.00000000', 'locked': '0.00000000'}, {'asset': 'ACX', 'free': '2358.00000000', 'locked': '0.00000000'}, {'asset': 'ORCA', 'free': '202.00000000', 'locked': '0.00000000'}, {'asset': 'MOVE', 'free': '3173.00000000', 'locked': '0.00000000'}, {'asset': 'ME', 'free': '547.00000000', 'locked': '0.00000000'}, {'asset': 'VELODROME', 'free': '10092.00000000', 'locked': '0.00000000'}, {'asset': 'VANA', 'free': '94.00000000', 'locked': '0.00000000'}, {'asset': '1000CAT', 'free': '18446.00000000', 'locked': '0.00000000'}, {'asset': 'PENGU', 'free': '18446.00000000', 'locked': '0.00000000'}, {'asset': 'BIO', 'free': '8326.00000000', 'locked': '0.00000000'}, {'asset': 'D', 'free': '11546.00000000', 'locked': '0.00000000'}, {'asset': 'AIXBT', 'free': '3023.00000000', 'locked': '0.00000000'}, {'asset': 'CGPT', 'free': '4430.00000000', 'locked': '0.00000000'}, {'asset': 'COOKIE', 'free': '2962.00000000', 'locked': '0.00000000'}, {'asset': 'S', 'free': '974.00000000', 'locked': '0.00000000'}, {'asset': 'SOLV', 'free': '12809.00000000', 'locked': '0.00000000'}, {'asset': 'TRUMP', 'free': '45.00000000', 'locked': '0.00000000'}, {'asset': 'ANIME', 'free': '18446.00000000', 'locked': '0.00000000'}, {'asset': 'BERA', 'free': '167.00000000', 'locked': '0.00000000'}, {'asset': '1000CHEEMS', 'free': '18446.00', 'locked': '0.00'}, {'asset': 'TST', 'free': '6723.00000000', 'locked': '0.00000000'}, {'asset': 'LAYER', 'free': '284.00000000', 'locked': '0.00000000'}, {'asset': 'HEI', 'free': '1523.00000000', 'locked': '0.00000000'}, {'asset': 'KAITO', 'free': '359.00000000', 'locked': '0.00000000'}, {'asset': 'SHELL', 'free': '2724.00000000', 'locked': '0.00000000'}, {'asset': 'RED', 'free': '1355.00000000', 'locked': '0.00000000'}, {'asset': 'GPS', 'free': '18446.00000000', 'locked': '0.00000000'}, {'asset': 'EPIC', 'free': '398.00000000', 'locked': '0.00000000'}, {'asset': 'BMT', 'free': '3131.00000000', 'locked': '0.00000000'}, {'asset': 'FORM', 'free': '195.00000000', 'locked': '0.00000000'}, {'asset': 'XUSD', 'free': '500.00000000', 'locked': '0.00000000'}, {'asset': 'CZK', 'free': '18466.00000000', 'locked': '0.00000000'}, {'asset': 'NIL', 'free': '1319.00000000', 'locked': '0.00000000'}, {'asset': 'PARTI', 'free': '2304.00000000', 'locked': '0.00000000'}, {'asset': 'MUBARAK', 'free': '18434.00000000', 'locked': '0.00000000'}, {'asset': 'TUT', 'free': '18446.00000000', 'locked': '0.00000000'}, {'asset': 'BROCCOLI714', 'free': '18359.00000000', 'locked': '0.00000000'}, {'asset': 'BANANAS31', 'free': '18446.00000000', 'locked': '0.00000000'}, {'asset': 'GUN', 'free': '10837.00000000', 'locked': '0.00000000'}, {'asset': 'BABY', 'free': '6347.00000000', 'locked': '0.00000000'}, {'asset': 'ONDO', 'free': '572.00000000', 'locked': '0.00000000'}, {'asset': 'BIGTIME', 'free': '7348.00000000', 'locked': '0.00000000'}, {'asset': 'VIRTUAL', 'free': '363.00000000', 'locked': '0.00000000'}, {'asset': 'KERNEL', 'free': '3444.00000000', 'locked': '0.00000000'}, {'asset': 'WCT', 'free': '1245.00000000', 'locked': '0.00000000'}, {'asset': 'HYPER', 'free': '3480.00000000', 'locked': '0.00000000'}, {'asset': 'INIT', 'free': '846.00000000', 'locked': '0.00000000'}, {'asset': 'SIGN', 'free': '6726.00000000', 'locked': '0.00000000'}, {'asset': 'STO', 'free': '3811.00000000', 'locked': '0.00000000'}, {'asset': 'SYRUP', 'free': '2392.00000000', 'locked': '0.00000000'}, {'asset': 'KMNO', 'free': '7111.00000000', 'locked': '0.00000000'}], 'permissions': ['SPOT'], 'uid': 1748979860186564729}\n"
     ]
    }
   ],
   "source": [
    "from binance.spot import Spot as Client\n",
    "\n",
    "api_key = \"5mP8R0S2ZHQQQxiL4PiaHrsZdmR5TSQEmWBoiO2nTttY04wn9gQUv8BpWfplMSmA\"\n",
    "api_secret = \"kvob4O1bz76FsdjhTLFkobT6Cu59i5Fo52zg3DzoHaNM0feik5Qdsz2YgoIIojbh\"\n",
    "\n",
    "client = Client(api_key, api_secret, base_url='https://testnet.binance.vision')\n",
    "\n",
    "print(client.account())"
   ]
  },
  {
   "cell_type": "code",
   "execution_count": 28,
   "id": "63979883",
   "metadata": {},
   "outputs": [
    {
     "ename": "ClientError",
     "evalue": "(400, -2010, 'Account has insufficient balance for requested action.', {'Content-Type': 'application/json;charset=UTF-8', 'Content-Length': '77', 'Connection': 'keep-alive', 'Date': 'Tue, 03 Jun 2025 20:31:27 GMT', 'Expires': '0', 'Server': 'nginx', 'x-mbx-uuid': '2d90bc93-4c0c-4fb0-9103-4fd145664a03', 'x-mbx-used-weight': '1', 'x-mbx-used-weight-1m': '1', 'x-mbx-order-count-10s': '1', 'x-mbx-order-count-1d': '1', 'Strict-Transport-Security': 'max-age=31536000; includeSubdomains', 'X-Frame-Options': 'SAMEORIGIN', 'X-Xss-Protection': '1; mode=block', 'X-Content-Type-Options': 'nosniff', 'Content-Security-Policy': \"default-src 'self'\", 'X-Content-Security-Policy': \"default-src 'self'\", 'X-WebKit-CSP': \"default-src 'self'\", 'Cache-Control': 'no-cache, no-store, must-revalidate', 'Pragma': 'no-cache', 'X-Cache': 'Error from cloudfront', 'Via': '1.1 6f416aa4cef6162ee99c949a7aae323a.cloudfront.net (CloudFront)', 'X-Amz-Cf-Pop': 'ZRH55-P2', 'X-Amz-Cf-Id': 'z7BtpTfWMa_gmd_q9V2DYMZk9W_AfIJN2XgJz04Y0e47ruVS_8QoIg=='}, None)",
     "output_type": "error",
     "traceback": [
      "\u001b[31m---------------------------------------------------------------------------\u001b[39m",
      "\u001b[31mClientError\u001b[39m                               Traceback (most recent call last)",
      "\u001b[36mCell\u001b[39m\u001b[36m \u001b[39m\u001b[32mIn[28]\u001b[39m\u001b[32m, line 1\u001b[39m\n\u001b[32m----> \u001b[39m\u001b[32m1\u001b[39m order = \u001b[43mclient\u001b[49m\u001b[43m.\u001b[49m\u001b[43mnew_order\u001b[49m\u001b[43m(\u001b[49m\n\u001b[32m      2\u001b[39m \u001b[43m    \u001b[49m\u001b[43msymbol\u001b[49m\u001b[43m=\u001b[49m\u001b[33;43m'\u001b[39;49m\u001b[33;43mBTCUSDT\u001b[39;49m\u001b[33;43m'\u001b[39;49m\u001b[43m,\u001b[49m\n\u001b[32m      3\u001b[39m \u001b[43m    \u001b[49m\u001b[43mside\u001b[49m\u001b[43m=\u001b[49m\u001b[33;43m'\u001b[39;49m\u001b[33;43mSELL\u001b[39;49m\u001b[33;43m'\u001b[39;49m\u001b[43m,\u001b[49m\n\u001b[32m      4\u001b[39m \u001b[43m    \u001b[49m\u001b[38;5;28;43mtype\u001b[39;49m\u001b[43m=\u001b[49m\u001b[33;43m'\u001b[39;49m\u001b[33;43mLIMIT\u001b[39;49m\u001b[33;43m'\u001b[39;49m\u001b[43m,\u001b[49m\n\u001b[32m      5\u001b[39m \u001b[43m    \u001b[49m\u001b[43mtimeInForce\u001b[49m\u001b[43m=\u001b[49m\u001b[33;43m'\u001b[39;49m\u001b[33;43mGTC\u001b[39;49m\u001b[33;43m'\u001b[39;49m\u001b[43m,\u001b[49m\n\u001b[32m      6\u001b[39m \u001b[43m    \u001b[49m\u001b[43mquantity\u001b[49m\u001b[43m=\u001b[49m\u001b[32;43m10\u001b[39;49m\u001b[43m,\u001b[49m\n\u001b[32m      7\u001b[39m \u001b[43m    \u001b[49m\u001b[43mprice\u001b[49m\u001b[43m=\u001b[49m\u001b[33;43m'\u001b[39;49m\u001b[33;43m106040.01\u001b[39;49m\u001b[33;43m'\u001b[39;49m\n\u001b[32m      8\u001b[39m \u001b[43m)\u001b[49m\n\u001b[32m     10\u001b[39m \u001b[38;5;28mprint\u001b[39m(order)\n",
      "\u001b[36mFile \u001b[39m\u001b[32m~/Documents/Blockchain Seminar/arbitrage_bot/.venv/lib/python3.13/site-packages/binance/spot/_trade.py:68\u001b[39m, in \u001b[36mnew_order\u001b[39m\u001b[34m(self, symbol, side, type, **kwargs)\u001b[39m\n\u001b[32m     66\u001b[39m params = {\u001b[33m\"\u001b[39m\u001b[33msymbol\u001b[39m\u001b[33m\"\u001b[39m: symbol, \u001b[33m\"\u001b[39m\u001b[33mside\u001b[39m\u001b[33m\"\u001b[39m: side, \u001b[33m\"\u001b[39m\u001b[33mtype\u001b[39m\u001b[33m\"\u001b[39m: \u001b[38;5;28mtype\u001b[39m, **kwargs}\n\u001b[32m     67\u001b[39m url_path = \u001b[33m\"\u001b[39m\u001b[33m/api/v3/order\u001b[39m\u001b[33m\"\u001b[39m\n\u001b[32m---> \u001b[39m\u001b[32m68\u001b[39m \u001b[38;5;28;01mreturn\u001b[39;00m \u001b[38;5;28;43mself\u001b[39;49m\u001b[43m.\u001b[49m\u001b[43msign_request\u001b[49m\u001b[43m(\u001b[49m\u001b[33;43m\"\u001b[39;49m\u001b[33;43mPOST\u001b[39;49m\u001b[33;43m\"\u001b[39;49m\u001b[43m,\u001b[49m\u001b[43m \u001b[49m\u001b[43murl_path\u001b[49m\u001b[43m,\u001b[49m\u001b[43m \u001b[49m\u001b[43mparams\u001b[49m\u001b[43m)\u001b[49m\n",
      "\u001b[36mFile \u001b[39m\u001b[32m~/Documents/Blockchain Seminar/arbitrage_bot/.venv/lib/python3.13/site-packages/binance/api.py:94\u001b[39m, in \u001b[36mAPI.sign_request\u001b[39m\u001b[34m(self, http_method, url_path, payload)\u001b[39m\n\u001b[32m     92\u001b[39m query_string = \u001b[38;5;28mself\u001b[39m._prepare_params(payload)\n\u001b[32m     93\u001b[39m payload[\u001b[33m\"\u001b[39m\u001b[33msignature\u001b[39m\u001b[33m\"\u001b[39m] = \u001b[38;5;28mself\u001b[39m._get_sign(query_string)\n\u001b[32m---> \u001b[39m\u001b[32m94\u001b[39m \u001b[38;5;28;01mreturn\u001b[39;00m \u001b[38;5;28;43mself\u001b[39;49m\u001b[43m.\u001b[49m\u001b[43msend_request\u001b[49m\u001b[43m(\u001b[49m\u001b[43mhttp_method\u001b[49m\u001b[43m,\u001b[49m\u001b[43m \u001b[49m\u001b[43murl_path\u001b[49m\u001b[43m,\u001b[49m\u001b[43m \u001b[49m\u001b[43mpayload\u001b[49m\u001b[43m)\u001b[49m\n",
      "\u001b[36mFile \u001b[39m\u001b[32m~/Documents/Blockchain Seminar/arbitrage_bot/.venv/lib/python3.13/site-packages/binance/api.py:129\u001b[39m, in \u001b[36mAPI.send_request\u001b[39m\u001b[34m(self, http_method, url_path, payload)\u001b[39m\n\u001b[32m    127\u001b[39m response = \u001b[38;5;28mself\u001b[39m._dispatch_request(http_method)(**params)\n\u001b[32m    128\u001b[39m \u001b[38;5;28mself\u001b[39m._logger.debug(\u001b[33m\"\u001b[39m\u001b[33mraw response from server:\u001b[39m\u001b[33m\"\u001b[39m + response.text)\n\u001b[32m--> \u001b[39m\u001b[32m129\u001b[39m \u001b[38;5;28;43mself\u001b[39;49m\u001b[43m.\u001b[49m\u001b[43m_handle_exception\u001b[49m\u001b[43m(\u001b[49m\u001b[43mresponse\u001b[49m\u001b[43m)\u001b[49m\n\u001b[32m    131\u001b[39m \u001b[38;5;28;01mtry\u001b[39;00m:\n\u001b[32m    132\u001b[39m     data = response.json()\n",
      "\u001b[36mFile \u001b[39m\u001b[32m~/Documents/Blockchain Seminar/arbitrage_bot/.venv/lib/python3.13/site-packages/binance/api.py:194\u001b[39m, in \u001b[36mAPI._handle_exception\u001b[39m\u001b[34m(self, response)\u001b[39m\n\u001b[32m    192\u001b[39m     \u001b[38;5;28;01mif\u001b[39;00m \u001b[33m\"\u001b[39m\u001b[33mdata\u001b[39m\u001b[33m\"\u001b[39m \u001b[38;5;129;01min\u001b[39;00m err:\n\u001b[32m    193\u001b[39m         error_data = err[\u001b[33m\"\u001b[39m\u001b[33mdata\u001b[39m\u001b[33m\"\u001b[39m]\n\u001b[32m--> \u001b[39m\u001b[32m194\u001b[39m     \u001b[38;5;28;01mraise\u001b[39;00m ClientError(\n\u001b[32m    195\u001b[39m         status_code, err[\u001b[33m\"\u001b[39m\u001b[33mcode\u001b[39m\u001b[33m\"\u001b[39m], err[\u001b[33m\"\u001b[39m\u001b[33mmsg\u001b[39m\u001b[33m\"\u001b[39m], response.headers, error_data\n\u001b[32m    196\u001b[39m     )\n\u001b[32m    197\u001b[39m \u001b[38;5;28;01mraise\u001b[39;00m ServerError(status_code, response.text)\n",
      "\u001b[31mClientError\u001b[39m: (400, -2010, 'Account has insufficient balance for requested action.', {'Content-Type': 'application/json;charset=UTF-8', 'Content-Length': '77', 'Connection': 'keep-alive', 'Date': 'Tue, 03 Jun 2025 20:31:27 GMT', 'Expires': '0', 'Server': 'nginx', 'x-mbx-uuid': '2d90bc93-4c0c-4fb0-9103-4fd145664a03', 'x-mbx-used-weight': '1', 'x-mbx-used-weight-1m': '1', 'x-mbx-order-count-10s': '1', 'x-mbx-order-count-1d': '1', 'Strict-Transport-Security': 'max-age=31536000; includeSubdomains', 'X-Frame-Options': 'SAMEORIGIN', 'X-Xss-Protection': '1; mode=block', 'X-Content-Type-Options': 'nosniff', 'Content-Security-Policy': \"default-src 'self'\", 'X-Content-Security-Policy': \"default-src 'self'\", 'X-WebKit-CSP': \"default-src 'self'\", 'Cache-Control': 'no-cache, no-store, must-revalidate', 'Pragma': 'no-cache', 'X-Cache': 'Error from cloudfront', 'Via': '1.1 6f416aa4cef6162ee99c949a7aae323a.cloudfront.net (CloudFront)', 'X-Amz-Cf-Pop': 'ZRH55-P2', 'X-Amz-Cf-Id': 'z7BtpTfWMa_gmd_q9V2DYMZk9W_AfIJN2XgJz04Y0e47ruVS_8QoIg=='}, None)"
     ]
    }
   ],
   "source": [
    "order = client.new_order(\n",
    "    symbol='BTCUSDT',\n",
    "    side='SELL',\n",
    "    type='LIMIT',\n",
    "    timeInForce='GTC',\n",
    "    quantity=10,\n",
    "    price='106040.01'\n",
    ")\n",
    "\n",
    "print(order)"
   ]
  },
  {
   "cell_type": "code",
   "execution_count": 18,
   "id": "ba6c4cdd",
   "metadata": {},
   "outputs": [
    {
     "name": "stdout",
     "output_type": "stream",
     "text": [
      "11555043\n",
      "FILLED\n"
     ]
    }
   ],
   "source": [
    "print(order.get('orderId'))\n",
    "print(order.get('status'))"
   ]
  },
  {
   "cell_type": "code",
   "execution_count": 24,
   "id": "e524a887",
   "metadata": {},
   "outputs": [
    {
     "data": {
      "application/vnd.microsoft.datawrangler.viewer.v0+json": {
       "columns": [
        {
         "name": "index",
         "rawType": "object",
         "type": "string"
        },
        {
         "name": "0",
         "rawType": "object",
         "type": "unknown"
        }
       ],
       "ref": "5a47cab8-d5d6-4ebc-a17a-0a61311ea899",
       "rows": [
        [
         "symbol",
         "BTCUSDT"
        ],
        [
         "orderId",
         "11555043"
        ],
        [
         "orderListId",
         "-1"
        ],
        [
         "clientOrderId",
         "vGeoQ2W48BK9w9A7sxjVwk"
        ],
        [
         "transactTime",
         "1748981889666"
        ],
        [
         "price",
         "106040.01000000"
        ],
        [
         "origQty",
         "0.00010000"
        ],
        [
         "executedQty",
         "0.00010000"
        ],
        [
         "origQuoteOrderQty",
         "0.00000000"
        ],
        [
         "cummulativeQuoteQty",
         "10.59534900"
        ],
        [
         "status",
         "FILLED"
        ],
        [
         "timeInForce",
         "GTC"
        ],
        [
         "type",
         "LIMIT"
        ],
        [
         "side",
         "BUY"
        ],
        [
         "workingTime",
         "1748981889666"
        ],
        [
         "fills",
         "[{'price': '105953.49000000', 'qty': '0.00010000', 'commission': '0.00000000', 'commissionAsset': 'BTC', 'tradeId': 4436523}]"
        ],
        [
         "selfTradePreventionMode",
         "EXPIRE_MAKER"
        ]
       ],
       "shape": {
        "columns": 1,
        "rows": 17
       }
      },
      "text/html": [
       "<div>\n",
       "<style scoped>\n",
       "    .dataframe tbody tr th:only-of-type {\n",
       "        vertical-align: middle;\n",
       "    }\n",
       "\n",
       "    .dataframe tbody tr th {\n",
       "        vertical-align: top;\n",
       "    }\n",
       "\n",
       "    .dataframe thead th {\n",
       "        text-align: right;\n",
       "    }\n",
       "</style>\n",
       "<table border=\"1\" class=\"dataframe\">\n",
       "  <thead>\n",
       "    <tr style=\"text-align: right;\">\n",
       "      <th></th>\n",
       "      <th>0</th>\n",
       "    </tr>\n",
       "  </thead>\n",
       "  <tbody>\n",
       "    <tr>\n",
       "      <th>symbol</th>\n",
       "      <td>BTCUSDT</td>\n",
       "    </tr>\n",
       "    <tr>\n",
       "      <th>orderId</th>\n",
       "      <td>11555043</td>\n",
       "    </tr>\n",
       "    <tr>\n",
       "      <th>orderListId</th>\n",
       "      <td>-1</td>\n",
       "    </tr>\n",
       "    <tr>\n",
       "      <th>clientOrderId</th>\n",
       "      <td>vGeoQ2W48BK9w9A7sxjVwk</td>\n",
       "    </tr>\n",
       "    <tr>\n",
       "      <th>transactTime</th>\n",
       "      <td>1748981889666</td>\n",
       "    </tr>\n",
       "    <tr>\n",
       "      <th>price</th>\n",
       "      <td>106040.01000000</td>\n",
       "    </tr>\n",
       "    <tr>\n",
       "      <th>origQty</th>\n",
       "      <td>0.00010000</td>\n",
       "    </tr>\n",
       "    <tr>\n",
       "      <th>executedQty</th>\n",
       "      <td>0.00010000</td>\n",
       "    </tr>\n",
       "    <tr>\n",
       "      <th>origQuoteOrderQty</th>\n",
       "      <td>0.00000000</td>\n",
       "    </tr>\n",
       "    <tr>\n",
       "      <th>cummulativeQuoteQty</th>\n",
       "      <td>10.59534900</td>\n",
       "    </tr>\n",
       "    <tr>\n",
       "      <th>status</th>\n",
       "      <td>FILLED</td>\n",
       "    </tr>\n",
       "    <tr>\n",
       "      <th>timeInForce</th>\n",
       "      <td>GTC</td>\n",
       "    </tr>\n",
       "    <tr>\n",
       "      <th>type</th>\n",
       "      <td>LIMIT</td>\n",
       "    </tr>\n",
       "    <tr>\n",
       "      <th>side</th>\n",
       "      <td>BUY</td>\n",
       "    </tr>\n",
       "    <tr>\n",
       "      <th>workingTime</th>\n",
       "      <td>1748981889666</td>\n",
       "    </tr>\n",
       "    <tr>\n",
       "      <th>fills</th>\n",
       "      <td>[{'price': '105953.49000000', 'qty': '0.000100...</td>\n",
       "    </tr>\n",
       "    <tr>\n",
       "      <th>selfTradePreventionMode</th>\n",
       "      <td>EXPIRE_MAKER</td>\n",
       "    </tr>\n",
       "  </tbody>\n",
       "</table>\n",
       "</div>"
      ],
      "text/plain": [
       "                                                                         0\n",
       "symbol                                                             BTCUSDT\n",
       "orderId                                                           11555043\n",
       "orderListId                                                             -1\n",
       "clientOrderId                                       vGeoQ2W48BK9w9A7sxjVwk\n",
       "transactTime                                                 1748981889666\n",
       "price                                                      106040.01000000\n",
       "origQty                                                         0.00010000\n",
       "executedQty                                                     0.00010000\n",
       "origQuoteOrderQty                                               0.00000000\n",
       "cummulativeQuoteQty                                            10.59534900\n",
       "status                                                              FILLED\n",
       "timeInForce                                                            GTC\n",
       "type                                                                 LIMIT\n",
       "side                                                                   BUY\n",
       "workingTime                                                  1748981889666\n",
       "fills                    [{'price': '105953.49000000', 'qty': '0.000100...\n",
       "selfTradePreventionMode                                       EXPIRE_MAKER"
      ]
     },
     "execution_count": 24,
     "metadata": {},
     "output_type": "execute_result"
    }
   ],
   "source": [
    "import pandas as pd\n",
    "\n",
    "# convert the order to a DataFrame\n",
    "order_df = pd.DataFrame([order])\n",
    "order_df.T"
   ]
  },
  {
   "cell_type": "code",
   "execution_count": 25,
   "id": "68ea92f1",
   "metadata": {},
   "outputs": [
    {
     "name": "stdout",
     "output_type": "stream",
     "text": [
      "{'makerCommission': 0, 'takerCommission': 0, 'buyerCommission': 0, 'sellerCommission': 0, 'commissionRates': {'maker': '0.00000000', 'taker': '0.00000000', 'buyer': '0.00000000', 'seller': '0.00000000'}, 'canTrade': True, 'canWithdraw': True, 'canDeposit': True, 'brokered': False, 'requireSelfTradePrevention': False, 'preventSor': False, 'updateTime': 1748981889666, 'accountType': 'SPOT', 'balances': [{'asset': 'ETH', 'free': '1.00000000', 'locked': '0.00000000'}, {'asset': 'BTC', 'free': '1.00110000', 'locked': '0.00000000'}, {'asset': 'LTC', 'free': '5.00000000', 'locked': '0.00000000'}, {'asset': 'BNB', 'free': '1.00000000', 'locked': '0.00000000'}, {'asset': 'USDT', 'free': '9883.36464100', 'locked': '0.00000000'}, {'asset': 'TRX', 'free': '2022.00000000', 'locked': '0.00000000'}, {'asset': 'XRP', 'free': '233.00000000', 'locked': '0.00000000'}, {'asset': 'NEO', 'free': '89.00000000', 'locked': '0.00000000'}, {'asset': 'QTUM', 'free': '238.00000000', 'locked': '0.00000000'}, {'asset': 'EOS', 'free': '691.00000000', 'locked': '0.00000000'}, {'asset': 'GAS', 'free': '161.00000000', 'locked': '0.00000000'}, {'asset': 'LRC', 'free': '4859.00000000', 'locked': '0.00000000'}, {'asset': 'ZRX', 'free': '1978.00000000', 'locked': '0.00000000'}, {'asset': 'KNC', 'free': '1459.00000000', 'locked': '0.00000000'}, {'asset': 'IOTA', 'free': '2402.00000000', 'locked': '0.00000000'}, {'asset': 'LINK', 'free': '36.00000000', 'locked': '0.00000000'}, {'asset': 'XVG', 'free': '18446.00000000', 'locked': '0.00000000'}, {'asset': 'MTL', 'free': '633.00000000', 'locked': '0.00000000'}, {'asset': 'ETC', 'free': '30.00000000', 'locked': '0.00000000'}, {'asset': 'ZEC', 'free': '13.00000000', 'locked': '0.00000000'}, {'asset': 'DASH', 'free': '23.00000000', 'locked': '0.00000000'}, {'asset': 'REQ', 'free': '3614.00000000', 'locked': '0.00000000'}, {'asset': 'POWR', 'free': '2957.00000000', 'locked': '0.00000000'}, {'asset': 'ENJ', 'free': '6688.00000000', 'locked': '0.00000000'}, {'asset': 'STORJ', 'free': '1813.00000000', 'locked': '0.00000000'}, {'asset': 'KMD', 'free': '3567.00000000', 'locked': '0.00000000'}, {'asset': 'BAT', 'free': '3613.00000000', 'locked': '0.00000000'}, {'asset': 'LSK', 'free': '1046.00000000', 'locked': '0.00000000'}, {'asset': 'MANA', 'free': '1677.00000000', 'locked': '0.00000000'}, {'asset': 'ADX', 'free': '5111.00000000', 'locked': '0.00000000'}, {'asset': 'ADA', 'free': '734.00000000', 'locked': '0.00000000'}, {'asset': 'XLM', 'free': '1910.00000000', 'locked': '0.00000000'}, {'asset': 'ICX', 'free': '5216.00000000', 'locked': '0.00000000'}, {'asset': 'RLC', 'free': '455.00000000', 'locked': '0.00000000'}, {'asset': 'PIVX', 'free': '3045.00000000', 'locked': '0.00000000'}, {'asset': 'STEEM', 'free': '3586.00000000', 'locked': '0.00000000'}, {'asset': 'ZIL', 'free': '18446.00000000', 'locked': '0.00000000'}, {'asset': 'ONT', 'free': '3556.00000000', 'locked': '0.00000000'}, {'asset': 'WAN', 'free': '4524.00000000', 'locked': '0.00000000'}, {'asset': 'SYS', 'free': '10071.00000000', 'locked': '0.00000000'}, {'asset': 'TUSD', 'free': '10000.00000000', 'locked': '0.00000000'}, {'asset': 'ZEN', 'free': '59.00000000', 'locked': '0.00000000'}, {'asset': 'THETA', 'free': '695.00000000', 'locked': '0.00000000'}, {'asset': 'IOTX', 'free': '18446.00000000', 'locked': '0.00000000'}, {'asset': 'DATA', 'free': '18446.00000000', 'locked': '0.00000000'}, {'asset': 'SC', 'free': '18446.00000000', 'locked': '0.00000000'}, {'asset': 'DENT', 'free': '18446.00000000', 'locked': '0.00000000'}, {'asset': 'ARDR', 'free': '5208.00000000', 'locked': '0.00000000'}, {'asset': 'HOT', 'free': '18446.00000000', 'locked': '0.00000000'}, {'asset': 'VET', 'free': '18446.00000000', 'locked': '0.00000000'}, {'asset': 'RVN', 'free': '18446.00000000', 'locked': '0.00000000'}, {'asset': 'USDC', 'free': '10000.00000000', 'locked': '0.00000000'}, {'asset': 'ONG', 'free': '2564.00000000', 'locked': '0.00000000'}, {'asset': 'FET', 'free': '726.00000000', 'locked': '0.00000000'}, {'asset': 'IOST', 'free': '18446.00000000', 'locked': '0.00000000'}, {'asset': 'CELR', 'free': '18446.00000000', 'locked': '0.00000000'}, {'asset': 'ATOM', 'free': '120.00000000', 'locked': '0.00000000'}, {'asset': 'PHB', 'free': '963.00000000', 'locked': '0.00000000'}, {'asset': 'TFUEL', 'free': '14245.00000000', 'locked': '0.00000000'}, {'asset': 'ONE', 'free': '18446.00000000', 'locked': '0.00000000'}, {'asset': 'ALGO', 'free': '2504.00000000', 'locked': '0.00000000'}, {'asset': 'DOGE', 'free': '2887.00000000', 'locked': '0.00000000'}, {'asset': 'DUSK', 'free': '6491.00000000', 'locked': '0.00000000'}, {'asset': 'ANKR', 'free': '18446.00000000', 'locked': '0.00000000'}, {'asset': 'WIN', 'free': '18446.00000000', 'locked': '0.00000000'}, {'asset': 'COS', 'free': '18446.00000000', 'locked': '0.00000000'}, {'asset': 'FUN', 'free': '18446.00000000', 'locked': '0.00000000'}, {'asset': 'CVC', 'free': '4863.00000000', 'locked': '0.00000000'}, {'asset': 'CHZ', 'free': '12722.00000000', 'locked': '0.00000000'}, {'asset': 'BAND', 'free': '678.00000000', 'locked': '0.00000000'}, {'asset': 'XTZ', 'free': '922.00000000', 'locked': '0.00000000'}, {'asset': 'HBAR', 'free': '2829.00000000', 'locked': '0.00000000'}, {'asset': 'NKN', 'free': '13168.00000000', 'locked': '0.00000000'}, {'asset': 'STX', 'free': '571.00000000', 'locked': '0.00000000'}, {'asset': 'KAVA', 'free': '1143.00000000', 'locked': '0.00000000'}, {'asset': 'ARPA', 'free': '18446.00000000', 'locked': '0.00000000'}, {'asset': 'BCH', 'free': '1.00000000', 'locked': '0.00000000'}, {'asset': 'FTT', 'free': '484.00000000', 'locked': '0.00000000'}, {'asset': 'TRY', 'free': '18466.00000000', 'locked': '0.00000000'}, {'asset': 'EUR', 'free': '440.00000000', 'locked': '0.00000000'}, {'asset': 'OGN', 'free': '8912.00000000', 'locked': '0.00000000'}, {'asset': 'BNT', 'free': '1048.00000000', 'locked': '0.00000000'}, {'asset': 'LTO', 'free': '11719.00000000', 'locked': '0.00000000'}, {'asset': 'MBL', 'free': '18446.00000000', 'locked': '0.00000000'}, {'asset': 'COTI', 'free': '6765.00000000', 'locked': '0.00000000'}, {'asset': 'STPT', 'free': '6415.00000000', 'locked': '0.00000000'}, {'asset': 'ZAR', 'free': '18466.00000000', 'locked': '0.00000000'}, {'asset': 'SOL', 'free': '3.00000000', 'locked': '0.00000000'}, {'asset': 'CTSI', 'free': '8274.00000000', 'locked': '0.00000000'}, {'asset': 'HIVE', 'free': '2112.00000000', 'locked': '0.00000000'}, {'asset': 'CHR', 'free': '6059.00000000', 'locked': '0.00000000'}, {'asset': 'MDT', 'free': '16639.00000000', 'locked': '0.00000000'}, {'asset': 'UAH', 'free': '18466.00000000', 'locked': '0.00000000'}, {'asset': 'COMP', 'free': '12.00000000', 'locked': '0.00000000'}, {'asset': 'SXP', 'free': '2636.00000000', 'locked': '0.00000000'}, {'asset': 'SNX', 'free': '767.00000000', 'locked': '0.00000000'}, {'asset': 'VTHO', 'free': '18446.00000000', 'locked': '0.00000000'}, {'asset': 'DGB', 'free': '18446.00000000', 'locked': '0.00000000'}, {'asset': 'MKR', 'free': '1.00000000', 'locked': '0.00000000'}, {'asset': 'RUNE', 'free': '399.00000000', 'locked': '0.00000000'}, {'asset': 'DCR', 'free': '38.00000000', 'locked': '0.00000000'}, {'asset': 'FIO', 'free': '18446.00000000', 'locked': '0.00000000'}, {'asset': 'AVA', 'free': '874.00000000', 'locked': '0.00000000'}, {'asset': 'YFI', 'free': '1.00000000', 'locked': '0.00000000'}, {'asset': 'DAI', 'free': '10000.00000000', 'locked': '0.00000000'}, {'asset': 'JST', 'free': '14648.00000000', 'locked': '0.00000000'}, {'asset': 'CRV', 'free': '746.00000000', 'locked': '0.00000000'}, {'asset': 'SAND', 'free': '1831.00000000', 'locked': '0.00000000'}, {'asset': 'NMR', 'free': '59.00000000', 'locked': '0.00000000'}, {'asset': 'DOT', 'free': '126.00000000', 'locked': '0.00000000'}, {'asset': 'LUNA', 'free': '3012.00000000', 'locked': '0.00000000'}, {'asset': 'RSR', 'free': '18446.00000000', 'locked': '0.00000000'}, {'asset': 'PAXG', 'free': '1.00000000', 'locked': '0.00000000'}, {'asset': 'TRB', 'free': '18.00000000', 'locked': '0.00000000'}, {'asset': 'WBTC', 'free': '1.00000000', 'locked': '0.00000000'}, {'asset': 'SUSHI', 'free': '829.00000000', 'locked': '0.00000000'}, {'asset': 'KSM', 'free': '34.00000000', 'locked': '0.00000000'}, {'asset': 'EGLD', 'free': '32.00000000', 'locked': '0.00000000'}, {'asset': 'DIA', 'free': '1014.00000000', 'locked': '0.00000000'}, {'asset': 'UMA', 'free': '447.00000000', 'locked': '0.00000000'}, {'asset': 'BEL', 'free': '1550.00000000', 'locked': '0.00000000'}, {'asset': 'UNI', 'free': '103.00000000', 'locked': '0.00000000'}, {'asset': 'OXT', 'free': '7580.00000000', 'locked': '0.00000000'}, {'asset': 'SUN', 'free': '18446.00000000', 'locked': '0.00000000'}, {'asset': 'AVAX', 'free': '25.00000000', 'locked': '0.00000000'}, {'asset': 'FLM', 'free': '16861.00000000', 'locked': '0.00000000'}, {'asset': 'SCRT', 'free': '2436.00000000', 'locked': '0.00000000'}, {'asset': 'CAKE', 'free': '244.00000000', 'locked': '0.00000000'}, {'asset': 'UTK', 'free': '15000.00000000', 'locked': '0.00000000'}, {'asset': 'XVS', 'free': '86.00000000', 'locked': '0.00000000'}, {'asset': 'ALPHA', 'free': '18031.00000000', 'locked': '0.00000000'}, {'asset': 'BRL', 'free': '97.00000000', 'locked': '0.00000000'}, {'asset': 'AAVE', 'free': '2.00000000', 'locked': '0.00000000'}, {'asset': 'NEAR', 'free': '215.00000000', 'locked': '0.00000000'}, {'asset': 'FIL', 'free': '193.00000000', 'locked': '0.00000000'}, {'asset': 'INJ', 'free': '52.00000000', 'locked': '0.00000000'}, {'asset': 'AUDIO', 'free': '7080.00000000', 'locked': '0.00000000'}, {'asset': 'CTK', 'free': '1403.00000000', 'locked': '0.00000000'}, {'asset': 'AXS', 'free': '212.00000000', 'locked': '0.00000000'}, {'asset': 'SLP', 'free': '18446.00000000', 'locked': '0.00000000'}, {'asset': 'STRAX', 'free': '9739.00000000', 'locked': '0.00000000'}, {'asset': 'ROSE', 'free': '18162.00000000', 'locked': '0.00000000'}, {'asset': 'SKL', 'free': '18446.00000000', 'locked': '0.00000000'}, {'asset': 'GLM', 'free': '1974.00000000', 'locked': '0.00000000'}, {'asset': 'GRT', 'free': '5465.00000000', 'locked': '0.00000000'}, {'asset': 'JUV', 'free': '436.00000000', 'locked': '0.00000000'}, {'asset': 'PSG', 'free': '185.00000000', 'locked': '0.00000000'}, {'asset': '1INCH', 'free': '2617.00000000', 'locked': '0.00000000'}, {'asset': 'OG', 'free': '118.00000000', 'locked': '0.00000000'}, {'asset': 'ATM', 'free': '429.00000000', 'locked': '0.00000000'}, {'asset': 'ASR', 'free': '310.00000000', 'locked': '0.00000000'}, {'asset': 'CELO', 'free': '1533.00000000', 'locked': '0.00000000'}, {'asset': 'RIF', 'free': '11176.00000000', 'locked': '0.00000000'}, {'asset': 'TRU', 'free': '13439.00000000', 'locked': '0.00000000'}, {'asset': 'CKB', 'free': '18446.00000000', 'locked': '0.00000000'}, {'asset': 'TWT', 'free': '648.00000000', 'locked': '0.00000000'}, {'asset': 'SFP', 'free': '958.00000000', 'locked': '0.00000000'}, {'asset': 'DODO', 'free': '11019.00000000', 'locked': '0.00000000'}, {'asset': 'ACM', 'free': '568.00000000', 'locked': '0.00000000'}, {'asset': 'AUCTION', 'free': '44.00000000', 'locked': '0.00000000'}, {'asset': 'PHA', 'free': '4341.00000000', 'locked': '0.00000000'}, {'asset': 'FIS', 'free': '2687.00000000', 'locked': '0.00000000'}, {'asset': 'OM', 'free': '1288.00000000', 'locked': '0.00000000'}, {'asset': 'POND', 'free': '18446.00000000', 'locked': '0.00000000'}, {'asset': 'DEGO', 'free': '299.00000000', 'locked': '0.00000000'}, {'asset': 'ALICE', 'free': '1246.00000000', 'locked': '0.00000000'}, {'asset': 'PERP', 'free': '1665.00000000', 'locked': '0.00000000'}, {'asset': 'SUPER', 'free': '756.00000000', 'locked': '0.00000000'}, {'asset': 'CFX', 'free': '6873.00000000', 'locked': '0.00000000'}, {'asset': 'TKO', 'free': '3152.00000000', 'locked': '0.00000000'}, {'asset': 'PUNDIX', 'free': '1205.00000000', 'locked': '0.00000000'}, {'asset': 'TLM', 'free': '18446.00000000', 'locked': '0.00000000'}, {'asset': 'BAR', 'free': '250.00000000', 'locked': '0.00000000'}, {'asset': 'FORTH', 'free': '190.00000000', 'locked': '0.00000000'}, {'asset': 'BAKE', 'free': '4280.00000000', 'locked': '0.00000000'}, {'asset': 'SHIB', 'free': '18446.00', 'locked': '0.00'}, {'asset': 'ICP', 'free': '108.00000000', 'locked': '0.00000000'}, {'asset': 'AR', 'free': '73.00000000', 'locked': '0.00000000'}, {'asset': 'MASK', 'free': '452.00000000', 'locked': '0.00000000'}, {'asset': 'LPT', 'free': '108.00000000', 'locked': '0.00000000'}, {'asset': 'ATA', 'free': '9453.00000000', 'locked': '0.00000000'}, {'asset': 'GTC', 'free': '1811.00000000', 'locked': '0.00000000'}, {'asset': 'MLN', 'free': '60.00000000', 'locked': '0.00000000'}, {'asset': 'DEXE', 'free': '33.00000000', 'locked': '0.00000000'}, {'asset': 'C98', 'free': '9069.00000000', 'locked': '0.00000000'}, {'asset': 'QNT', 'free': '5.00000000', 'locked': '0.00000000'}, {'asset': 'FLOW', 'free': '1344.00000000', 'locked': '0.00000000'}, {'asset': 'MINA', 'free': '2255.00000000', 'locked': '0.00000000'}, {'asset': 'RAY', 'free': '206.00000000', 'locked': '0.00000000'}, {'asset': 'FARM', 'free': '16.00000000', 'locked': '0.00000000'}, {'asset': 'QUICK', 'free': '18446.00000000', 'locked': '0.00000000'}, {'asset': 'MBOX', 'free': '9577.00000000', 'locked': '0.00000000'}, {'asset': 'GHST', 'free': '1136.00000000', 'locked': '0.00000000'}, {'asset': 'WAXP', 'free': '18446.00000000', 'locked': '0.00000000'}, {'asset': 'GNO', 'free': '4.00000000', 'locked': '0.00000000'}, {'asset': 'XEC', 'free': '18446.00', 'locked': '0.00'}, {'asset': 'DYDX', 'free': '892.00000000', 'locked': '0.00000000'}, {'asset': 'IDEX', 'free': '18446.00000000', 'locked': '0.00000000'}, {'asset': 'USDP', 'free': '500.00000000', 'locked': '0.00000000'}, {'asset': 'GALA', 'free': '18446.00000000', 'locked': '0.00000000'}, {'asset': 'ILV', 'free': '36.00000000', 'locked': '0.00000000'}, {'asset': 'YGG', 'free': '2737.00000000', 'locked': '0.00000000'}, {'asset': 'DF', 'free': '9805.00000000', 'locked': '0.00000000'}, {'asset': 'FIDA', 'free': '7978.00000000', 'locked': '0.00000000'}, {'asset': 'AGLD', 'free': '548.00000000', 'locked': '0.00000000'}, {'asset': 'RAD', 'free': '651.00000000', 'locked': '0.00000000'}, {'asset': 'RARE', 'free': '8457.00000000', 'locked': '0.00000000'}, {'asset': 'SSV', 'free': '78.00000000', 'locked': '0.00000000'}, {'asset': 'LAZIO', 'free': '510.00000000', 'locked': '0.00000000'}, {'asset': 'CHESS', 'free': '8068.00000000', 'locked': '0.00000000'}, {'asset': 'MOVR', 'free': '80.00000000', 'locked': '0.00000000'}, {'asset': 'CITY', 'free': '453.00000000', 'locked': '0.00000000'}, {'asset': 'ENS', 'free': '28.00000000', 'locked': '0.00000000'}, {'asset': 'QI', 'free': '18446.00000000', 'locked': '0.00000000'}, {'asset': 'PORTO', 'free': '498.00000000', 'locked': '0.00000000'}, {'asset': 'JASMY', 'free': '18446.00000000', 'locked': '0.00000000'}, {'asset': 'AMP', 'free': '18446.00000000', 'locked': '0.00000000'}, {'asset': 'PYR', 'free': '452.00000000', 'locked': '0.00000000'}, {'asset': 'ALCX', 'free': '58.00000000', 'locked': '0.00000000'}, {'asset': 'SANTOS', 'free': '212.00000000', 'locked': '0.00000000'}, {'asset': 'BICO', 'free': '4246.00000000', 'locked': '0.00000000'}, {'asset': 'FLUX', 'free': '1876.00000000', 'locked': '0.00000000'}, {'asset': 'FXS', 'free': '250.00000000', 'locked': '0.00000000'}, {'asset': 'VOXEL', 'free': '5560.00000000', 'locked': '0.00000000'}, {'asset': 'HIGH', 'free': '778.00000000', 'locked': '0.00000000'}, {'asset': 'CVX', 'free': '159.00000000', 'locked': '0.00000000'}, {'asset': 'PEOPLE', 'free': '18446.00000000', 'locked': '0.00000000'}, {'asset': 'SPELL', 'free': '18446.00000000', 'locked': '0.00000000'}, {'asset': 'JOE', 'free': '2868.00000000', 'locked': '0.00000000'}, {'asset': 'ACH', 'free': '18446.00000000', 'locked': '0.00000000'}, {'asset': 'IMX', 'free': '932.00000000', 'locked': '0.00000000'}, {'asset': 'GLMR', 'free': '6711.00000000', 'locked': '0.00000000'}, {'asset': 'LOKA', 'free': '6533.00000000', 'locked': '0.00000000'}, {'asset': 'API3', 'free': '683.00000000', 'locked': '0.00000000'}, {'asset': 'BTTC', 'free': '18446.0', 'locked': '0.0'}, {'asset': 'ACA', 'free': '16860.00000000', 'locked': '0.00000000'}, {'asset': 'XNO', 'free': '569.00000000', 'locked': '0.00000000'}, {'asset': 'WOO', 'free': '7528.00000000', 'locked': '0.00000000'}, {'asset': 'ALPINE', 'free': '530.00000000', 'locked': '0.00000000'}, {'asset': 'T', 'free': '18446.00000000', 'locked': '0.00000000'}, {'asset': 'ASTR', 'free': '18446.00000000', 'locked': '0.00000000'}, {'asset': 'GMT', 'free': '9708.00000000', 'locked': '0.00000000'}, {'asset': 'KDA', 'free': '851.00000000', 'locked': '0.00000000'}, {'asset': 'APE', 'free': '1024.00000000', 'locked': '0.00000000'}, {'asset': 'BSW', 'free': '12416.00000000', 'locked': '0.00000000'}, {'asset': 'BIFI', 'free': '2.00000000', 'locked': '0.00000000'}, {'asset': 'NEXO', 'free': '399.00000000', 'locked': '0.00000000'}, {'asset': 'REI', 'free': '18446.00000000', 'locked': '0.00000000'}, {'asset': 'LDO', 'free': '634.00000000', 'locked': '0.00000000'}, {'asset': 'OP', 'free': '834.00000000', 'locked': '0.00000000'}, {'asset': 'LEVER', 'free': '18446.00000000', 'locked': '0.00000000'}, {'asset': 'STG', 'free': '2552.00000000', 'locked': '0.00000000'}, {'asset': 'LUNC', 'free': '18446.00000000', 'locked': '0.00000000'}, {'asset': 'GMX', 'free': '37.00000000', 'locked': '0.00000000'}, {'asset': 'POLYX', 'free': '3550.00000000', 'locked': '0.00000000'}, {'asset': 'APT', 'free': '105.00000000', 'locked': '0.00000000'}, {'asset': 'PLN', 'free': '18466.00000000', 'locked': '0.00000000'}, {'asset': 'OSMO', 'free': '2301.00000000', 'locked': '0.00000000'}, {'asset': 'HFT', 'free': '8182.00000000', 'locked': '0.00000000'}, {'asset': 'HOOK', 'free': '3983.00000000', 'locked': '0.00000000'}, {'asset': 'MAGIC', 'free': '3174.00000000', 'locked': '0.00000000'}, {'asset': 'HIFI', 'free': '1993.00000000', 'locked': '0.00000000'}, {'asset': 'RPL', 'free': '124.00000000', 'locked': '0.00000000'}, {'asset': 'RON', 'free': '18466.00000000', 'locked': '0.00000000'}, {'asset': 'GNS', 'free': '369.00000000', 'locked': '0.00000000'}, {'asset': 'SYN', 'free': '2120.00000000', 'locked': '0.00000000'}, {'asset': 'LQTY', 'free': '794.00000000', 'locked': '0.00000000'}, {'asset': 'USTC', 'free': '18446.00000000', 'locked': '0.00000000'}, {'asset': 'PROM', 'free': '90.00000000', 'locked': '0.00000000'}, {'asset': 'QKC', 'free': '18446.00000000', 'locked': '0.00000000'}, {'asset': 'ID', 'free': '2630.00000000', 'locked': '0.00000000'}, {'asset': 'ARB', 'free': '1630.00000000', 'locked': '0.00000000'}, {'asset': 'RDNT', 'free': '18446.00000000', 'locked': '0.00000000'}, {'asset': 'ARS', 'free': '18466.00000000', 'locked': '0.00000000'}, {'asset': 'EDU', 'free': '3649.00000000', 'locked': '0.00000000'}, {'asset': 'SUI', 'free': '147.00000000', 'locked': '0.00000000'}, {'asset': 'PEPE', 'free': '18446.00', 'locked': '0.00'}, {'asset': 'FLOKI', 'free': '18446.00', 'locked': '0.00'}, {'asset': 'WBETH', 'free': '1.00000000', 'locked': '0.00000000'}, {'asset': 'MAV', 'free': '9163.00000000', 'locked': '0.00000000'}, {'asset': 'PENDLE', 'free': '156.00000000', 'locked': '0.00000000'}, {'asset': 'ARKM', 'free': '984.00000000', 'locked': '0.00000000'}, {'asset': 'WLD', 'free': '534.00000000', 'locked': '0.00000000'}, {'asset': 'FDUSD', 'free': '10000.00000000', 'locked': '0.00000000'}, {'asset': 'SEI', 'free': '2503.00000000', 'locked': '0.00000000'}, {'asset': 'CYBER', 'free': '375.00000000', 'locked': '0.00000000'}, {'asset': 'ARK', 'free': '1247.00000000', 'locked': '0.00000000'}, {'asset': 'IQ', 'free': '18446.00000000', 'locked': '0.00000000'}, {'asset': 'NTRN', 'free': '4030.00000000', 'locked': '0.00000000'}, {'asset': 'TIA', 'free': '207.00000000', 'locked': '0.00000000'}, {'asset': 'MEME', 'free': '18446.00000000', 'locked': '0.00000000'}, {'asset': 'ORDI', 'free': '70.00000000', 'locked': '0.00000000'}, {'asset': 'BEAMX', 'free': '18446.00000000', 'locked': '0.00000000'}, {'asset': 'VIC', 'free': '2390.00000000', 'locked': '0.00000000'}, {'asset': 'BLUR', 'free': '5207.00000000', 'locked': '0.00000000'}, {'asset': 'VANRY', 'free': '17111.00000000', 'locked': '0.00000000'}, {'asset': 'AEUR', 'free': '482.00000000', 'locked': '0.00000000'}, {'asset': 'JTO', 'free': '312.00000000', 'locked': '0.00000000'}, {'asset': '1000SATS', 'free': '18446.00', 'locked': '0.00'}, {'asset': 'BONK', 'free': '18446.00', 'locked': '0.00'}, {'asset': 'ACE', 'free': '932.00000000', 'locked': '0.00000000'}, {'asset': 'NFP', 'free': '7163.00000000', 'locked': '0.00000000'}, {'asset': 'AI', 'free': '3379.00000000', 'locked': '0.00000000'}, {'asset': 'XAI', 'free': '9706.00000000', 'locked': '0.00000000'}, {'asset': 'MANTA', 'free': '2392.00000000', 'locked': '0.00000000'}, {'asset': 'ALT', 'free': '18446.00000000', 'locked': '0.00000000'}, {'asset': 'JUP', 'free': '1182.00000000', 'locked': '0.00000000'}, {'asset': 'PYTH', 'free': '3718.00000000', 'locked': '0.00000000'}, {'asset': 'RONIN', 'free': '1010.00000000', 'locked': '0.00000000'}, {'asset': 'DYM', 'free': '1771.00000000', 'locked': '0.00000000'}, {'asset': 'PIXEL', 'free': '14445.00000000', 'locked': '0.00000000'}, {'asset': 'STRK', 'free': '3804.00000000', 'locked': '0.00000000'}, {'asset': 'PORTAL', 'free': '8051.00000000', 'locked': '0.00000000'}, {'asset': 'AXL', 'free': '1343.00000000', 'locked': '0.00000000'}, {'asset': 'WIF', 'free': '880.00000000', 'locked': '0.00000000'}, {'asset': 'METIS', 'free': '33.00000000', 'locked': '0.00000000'}, {'asset': 'JPY', 'free': '18466.00000000', 'locked': '0.00000000'}, {'asset': 'AEVO', 'free': '4937.00000000', 'locked': '0.00000000'}, {'asset': 'BOME', 'free': '18446.00', 'locked': '0.00'}, {'asset': 'ETHFI', 'free': '963.00000000', 'locked': '0.00000000'}, {'asset': 'ENA', 'free': '1860.00000000', 'locked': '0.00000000'}, {'asset': 'W', 'free': '6385.00000000', 'locked': '0.00000000'}, {'asset': 'TNSR', 'free': '3687.00000000', 'locked': '0.00000000'}, {'asset': 'SAGA', 'free': '1834.00000000', 'locked': '0.00000000'}, {'asset': 'MXN', 'free': '18466.00000000', 'locked': '0.00000000'}, {'asset': 'TAO', 'free': '1.00000000', 'locked': '0.00000000'}, {'asset': 'OMNI', 'free': '234.00000000', 'locked': '0.00000000'}, {'asset': 'REZ', 'free': '18446.00000000', 'locked': '0.00000000'}, {'asset': 'BB', 'free': '4362.00000000', 'locked': '0.00000000'}, {'asset': 'NOT', 'free': '18446.00', 'locked': '0.00'}, {'asset': 'COP', 'free': '18466.00000000', 'locked': '0.00000000'}, {'asset': 'IO', 'free': '687.00000000', 'locked': '0.00000000'}, {'asset': 'ZK', 'free': '9898.00000000', 'locked': '0.00000000'}, {'asset': 'LISTA', 'free': '2867.00000000', 'locked': '0.00000000'}, {'asset': 'ZRO', 'free': '204.00000000', 'locked': '0.00000000'}, {'asset': 'G', 'free': '18446.00000000', 'locked': '0.00000000'}, {'asset': 'BANANA', 'free': '28.00000000', 'locked': '0.00000000'}, {'asset': 'RENDER', 'free': '118.00000000', 'locked': '0.00000000'}, {'asset': 'TON', 'free': '165.00000000', 'locked': '0.00000000'}, {'asset': 'DOGS', 'free': '18446.00', 'locked': '0.00'}, {'asset': 'EURI', 'free': '440.00000000', 'locked': '0.00000000'}, {'asset': 'SLF', 'free': '2616.00000000', 'locked': '0.00000000'}, {'asset': 'POL', 'free': '2275.00000000', 'locked': '0.00000000'}, {'asset': 'NEIRO', 'free': '18446.00', 'locked': '0.00'}, {'asset': 'TURBO', 'free': '18446.00000000', 'locked': '0.00000000'}, {'asset': '1MBABYDOGE', 'free': '18446.00', 'locked': '0.00'}, {'asset': 'CATI', 'free': '6162.00000000', 'locked': '0.00000000'}, {'asset': 'HMSTR', 'free': '18446.00', 'locked': '0.00'}, {'asset': 'EIGEN', 'free': '651.00000000', 'locked': '0.00000000'}, {'asset': 'BNSOL', 'free': '3.00000000', 'locked': '0.00000000'}, {'asset': 'SCR', 'free': '1754.00000000', 'locked': '0.00000000'}, {'asset': 'LUMIA', 'free': '1461.00000000', 'locked': '0.00000000'}, {'asset': 'KAIA', 'free': '4461.00000000', 'locked': '0.00000000'}, {'asset': 'COW', 'free': '1752.00000000', 'locked': '0.00000000'}, {'asset': 'CETUS', 'free': '2620.00000000', 'locked': '0.00000000'}, {'asset': 'PNUT', 'free': '3231.00000000', 'locked': '0.00000000'}, {'asset': 'ACT', 'free': '9797.00000000', 'locked': '0.00000000'}, {'asset': 'USUAL', 'free': '4319.00000000', 'locked': '0.00000000'}, {'asset': 'THE', 'free': '2026.00000000', 'locked': '0.00000000'}, {'asset': 'ACX', 'free': '2358.00000000', 'locked': '0.00000000'}, {'asset': 'ORCA', 'free': '202.00000000', 'locked': '0.00000000'}, {'asset': 'MOVE', 'free': '3173.00000000', 'locked': '0.00000000'}, {'asset': 'ME', 'free': '547.00000000', 'locked': '0.00000000'}, {'asset': 'VELODROME', 'free': '10092.00000000', 'locked': '0.00000000'}, {'asset': 'VANA', 'free': '94.00000000', 'locked': '0.00000000'}, {'asset': '1000CAT', 'free': '18446.00000000', 'locked': '0.00000000'}, {'asset': 'PENGU', 'free': '18446.00000000', 'locked': '0.00000000'}, {'asset': 'BIO', 'free': '8326.00000000', 'locked': '0.00000000'}, {'asset': 'D', 'free': '11546.00000000', 'locked': '0.00000000'}, {'asset': 'AIXBT', 'free': '3023.00000000', 'locked': '0.00000000'}, {'asset': 'CGPT', 'free': '4430.00000000', 'locked': '0.00000000'}, {'asset': 'COOKIE', 'free': '2962.00000000', 'locked': '0.00000000'}, {'asset': 'S', 'free': '974.00000000', 'locked': '0.00000000'}, {'asset': 'SOLV', 'free': '12809.00000000', 'locked': '0.00000000'}, {'asset': 'TRUMP', 'free': '45.00000000', 'locked': '0.00000000'}, {'asset': 'ANIME', 'free': '18446.00000000', 'locked': '0.00000000'}, {'asset': 'BERA', 'free': '167.00000000', 'locked': '0.00000000'}, {'asset': '1000CHEEMS', 'free': '18446.00', 'locked': '0.00'}, {'asset': 'TST', 'free': '6723.00000000', 'locked': '0.00000000'}, {'asset': 'LAYER', 'free': '284.00000000', 'locked': '0.00000000'}, {'asset': 'HEI', 'free': '1523.00000000', 'locked': '0.00000000'}, {'asset': 'KAITO', 'free': '359.00000000', 'locked': '0.00000000'}, {'asset': 'SHELL', 'free': '2724.00000000', 'locked': '0.00000000'}, {'asset': 'RED', 'free': '1355.00000000', 'locked': '0.00000000'}, {'asset': 'GPS', 'free': '18446.00000000', 'locked': '0.00000000'}, {'asset': 'EPIC', 'free': '398.00000000', 'locked': '0.00000000'}, {'asset': 'BMT', 'free': '3131.00000000', 'locked': '0.00000000'}, {'asset': 'FORM', 'free': '195.00000000', 'locked': '0.00000000'}, {'asset': 'XUSD', 'free': '500.00000000', 'locked': '0.00000000'}, {'asset': 'CZK', 'free': '18466.00000000', 'locked': '0.00000000'}, {'asset': 'NIL', 'free': '1319.00000000', 'locked': '0.00000000'}, {'asset': 'PARTI', 'free': '2304.00000000', 'locked': '0.00000000'}, {'asset': 'MUBARAK', 'free': '18434.00000000', 'locked': '0.00000000'}, {'asset': 'TUT', 'free': '18446.00000000', 'locked': '0.00000000'}, {'asset': 'BROCCOLI714', 'free': '18359.00000000', 'locked': '0.00000000'}, {'asset': 'BANANAS31', 'free': '18446.00000000', 'locked': '0.00000000'}, {'asset': 'GUN', 'free': '10837.00000000', 'locked': '0.00000000'}, {'asset': 'BABY', 'free': '6347.00000000', 'locked': '0.00000000'}, {'asset': 'ONDO', 'free': '572.00000000', 'locked': '0.00000000'}, {'asset': 'BIGTIME', 'free': '7348.00000000', 'locked': '0.00000000'}, {'asset': 'VIRTUAL', 'free': '363.00000000', 'locked': '0.00000000'}, {'asset': 'KERNEL', 'free': '3444.00000000', 'locked': '0.00000000'}, {'asset': 'WCT', 'free': '1245.00000000', 'locked': '0.00000000'}, {'asset': 'HYPER', 'free': '3480.00000000', 'locked': '0.00000000'}, {'asset': 'INIT', 'free': '846.00000000', 'locked': '0.00000000'}, {'asset': 'SIGN', 'free': '6726.00000000', 'locked': '0.00000000'}, {'asset': 'STO', 'free': '3811.00000000', 'locked': '0.00000000'}, {'asset': 'SYRUP', 'free': '2392.00000000', 'locked': '0.00000000'}, {'asset': 'KMNO', 'free': '7111.00000000', 'locked': '0.00000000'}], 'permissions': ['SPOT'], 'uid': 1748979860186564729}\n"
     ]
    }
   ],
   "source": [
    "print(client.account())"
   ]
  },
  {
   "cell_type": "code",
   "execution_count": 27,
   "id": "91896063",
   "metadata": {},
   "outputs": [
    {
     "ename": "ClientError",
     "evalue": "(400, -1013, 'Filter failure: PERCENT_PRICE_BY_SIDE', {'Content-Type': 'application/json;charset=UTF-8', 'Content-Length': '60', 'Connection': 'keep-alive', 'Date': 'Tue, 03 Jun 2025 20:30:53 GMT', 'Expires': '0', 'Server': 'nginx', 'x-mbx-uuid': '83c5ce22-a1d8-4f1d-808b-625371bdacdb', 'x-mbx-used-weight': '1', 'x-mbx-used-weight-1m': '1', 'Strict-Transport-Security': 'max-age=31536000; includeSubdomains', 'X-Frame-Options': 'SAMEORIGIN', 'X-Xss-Protection': '1; mode=block', 'X-Content-Type-Options': 'nosniff', 'Content-Security-Policy': \"default-src 'self'\", 'X-Content-Security-Policy': \"default-src 'self'\", 'X-WebKit-CSP': \"default-src 'self'\", 'Cache-Control': 'no-cache, no-store, must-revalidate', 'Pragma': 'no-cache', 'X-Cache': 'Error from cloudfront', 'Via': '1.1 6f416aa4cef6162ee99c949a7aae323a.cloudfront.net (CloudFront)', 'X-Amz-Cf-Pop': 'ZRH55-P2', 'X-Amz-Cf-Id': 'YFuyQYPeULYXeLRNkJr3tB-iyruZFdIswzODyef1kziQv8YQzWO-NQ=='}, None)",
     "output_type": "error",
     "traceback": [
      "\u001b[31m---------------------------------------------------------------------------\u001b[39m",
      "\u001b[31mClientError\u001b[39m                               Traceback (most recent call last)",
      "\u001b[36mCell\u001b[39m\u001b[36m \u001b[39m\u001b[32mIn[27]\u001b[39m\u001b[32m, line 1\u001b[39m\n\u001b[32m----> \u001b[39m\u001b[32m1\u001b[39m order2 = \u001b[43mclient\u001b[49m\u001b[43m.\u001b[49m\u001b[43mnew_order\u001b[49m\u001b[43m(\u001b[49m\n\u001b[32m      2\u001b[39m \u001b[43m    \u001b[49m\u001b[43msymbol\u001b[49m\u001b[43m=\u001b[49m\u001b[33;43m'\u001b[39;49m\u001b[33;43mETHUSDT\u001b[39;49m\u001b[33;43m'\u001b[39;49m\u001b[43m,\u001b[49m\n\u001b[32m      3\u001b[39m \u001b[43m    \u001b[49m\u001b[43mside\u001b[49m\u001b[43m=\u001b[49m\u001b[33;43m'\u001b[39;49m\u001b[33;43mSELL\u001b[39;49m\u001b[33;43m'\u001b[39;49m\u001b[43m,\u001b[49m\n\u001b[32m      4\u001b[39m \u001b[43m    \u001b[49m\u001b[38;5;28;43mtype\u001b[39;49m\u001b[43m=\u001b[49m\u001b[33;43m'\u001b[39;49m\u001b[33;43mLIMIT\u001b[39;49m\u001b[33;43m'\u001b[39;49m\u001b[43m,\u001b[49m\n\u001b[32m      5\u001b[39m \u001b[43m    \u001b[49m\u001b[43mtimeInForce\u001b[49m\u001b[43m=\u001b[49m\u001b[33;43m'\u001b[39;49m\u001b[33;43mGTC\u001b[39;49m\u001b[33;43m'\u001b[39;49m\u001b[43m,\u001b[49m\n\u001b[32m      6\u001b[39m \u001b[43m    \u001b[49m\u001b[43mquantity\u001b[49m\u001b[43m=\u001b[49m\u001b[32;43m1\u001b[39;49m\u001b[43m,\u001b[49m\n\u001b[32m      7\u001b[39m \u001b[43m    \u001b[49m\u001b[43mprice\u001b[49m\u001b[43m=\u001b[49m\u001b[33;43m'\u001b[39;49m\u001b[33;43m10\u001b[39;49m\u001b[33;43m'\u001b[39;49m\n\u001b[32m      8\u001b[39m \u001b[43m)\u001b[49m\n\u001b[32m     10\u001b[39m \u001b[38;5;28mprint\u001b[39m(order2)\n",
      "\u001b[36mFile \u001b[39m\u001b[32m~/Documents/Blockchain Seminar/arbitrage_bot/.venv/lib/python3.13/site-packages/binance/spot/_trade.py:68\u001b[39m, in \u001b[36mnew_order\u001b[39m\u001b[34m(self, symbol, side, type, **kwargs)\u001b[39m\n\u001b[32m     66\u001b[39m params = {\u001b[33m\"\u001b[39m\u001b[33msymbol\u001b[39m\u001b[33m\"\u001b[39m: symbol, \u001b[33m\"\u001b[39m\u001b[33mside\u001b[39m\u001b[33m\"\u001b[39m: side, \u001b[33m\"\u001b[39m\u001b[33mtype\u001b[39m\u001b[33m\"\u001b[39m: \u001b[38;5;28mtype\u001b[39m, **kwargs}\n\u001b[32m     67\u001b[39m url_path = \u001b[33m\"\u001b[39m\u001b[33m/api/v3/order\u001b[39m\u001b[33m\"\u001b[39m\n\u001b[32m---> \u001b[39m\u001b[32m68\u001b[39m \u001b[38;5;28;01mreturn\u001b[39;00m \u001b[38;5;28;43mself\u001b[39;49m\u001b[43m.\u001b[49m\u001b[43msign_request\u001b[49m\u001b[43m(\u001b[49m\u001b[33;43m\"\u001b[39;49m\u001b[33;43mPOST\u001b[39;49m\u001b[33;43m\"\u001b[39;49m\u001b[43m,\u001b[49m\u001b[43m \u001b[49m\u001b[43murl_path\u001b[49m\u001b[43m,\u001b[49m\u001b[43m \u001b[49m\u001b[43mparams\u001b[49m\u001b[43m)\u001b[49m\n",
      "\u001b[36mFile \u001b[39m\u001b[32m~/Documents/Blockchain Seminar/arbitrage_bot/.venv/lib/python3.13/site-packages/binance/api.py:94\u001b[39m, in \u001b[36mAPI.sign_request\u001b[39m\u001b[34m(self, http_method, url_path, payload)\u001b[39m\n\u001b[32m     92\u001b[39m query_string = \u001b[38;5;28mself\u001b[39m._prepare_params(payload)\n\u001b[32m     93\u001b[39m payload[\u001b[33m\"\u001b[39m\u001b[33msignature\u001b[39m\u001b[33m\"\u001b[39m] = \u001b[38;5;28mself\u001b[39m._get_sign(query_string)\n\u001b[32m---> \u001b[39m\u001b[32m94\u001b[39m \u001b[38;5;28;01mreturn\u001b[39;00m \u001b[38;5;28;43mself\u001b[39;49m\u001b[43m.\u001b[49m\u001b[43msend_request\u001b[49m\u001b[43m(\u001b[49m\u001b[43mhttp_method\u001b[49m\u001b[43m,\u001b[49m\u001b[43m \u001b[49m\u001b[43murl_path\u001b[49m\u001b[43m,\u001b[49m\u001b[43m \u001b[49m\u001b[43mpayload\u001b[49m\u001b[43m)\u001b[49m\n",
      "\u001b[36mFile \u001b[39m\u001b[32m~/Documents/Blockchain Seminar/arbitrage_bot/.venv/lib/python3.13/site-packages/binance/api.py:129\u001b[39m, in \u001b[36mAPI.send_request\u001b[39m\u001b[34m(self, http_method, url_path, payload)\u001b[39m\n\u001b[32m    127\u001b[39m response = \u001b[38;5;28mself\u001b[39m._dispatch_request(http_method)(**params)\n\u001b[32m    128\u001b[39m \u001b[38;5;28mself\u001b[39m._logger.debug(\u001b[33m\"\u001b[39m\u001b[33mraw response from server:\u001b[39m\u001b[33m\"\u001b[39m + response.text)\n\u001b[32m--> \u001b[39m\u001b[32m129\u001b[39m \u001b[38;5;28;43mself\u001b[39;49m\u001b[43m.\u001b[49m\u001b[43m_handle_exception\u001b[49m\u001b[43m(\u001b[49m\u001b[43mresponse\u001b[49m\u001b[43m)\u001b[49m\n\u001b[32m    131\u001b[39m \u001b[38;5;28;01mtry\u001b[39;00m:\n\u001b[32m    132\u001b[39m     data = response.json()\n",
      "\u001b[36mFile \u001b[39m\u001b[32m~/Documents/Blockchain Seminar/arbitrage_bot/.venv/lib/python3.13/site-packages/binance/api.py:194\u001b[39m, in \u001b[36mAPI._handle_exception\u001b[39m\u001b[34m(self, response)\u001b[39m\n\u001b[32m    192\u001b[39m     \u001b[38;5;28;01mif\u001b[39;00m \u001b[33m\"\u001b[39m\u001b[33mdata\u001b[39m\u001b[33m\"\u001b[39m \u001b[38;5;129;01min\u001b[39;00m err:\n\u001b[32m    193\u001b[39m         error_data = err[\u001b[33m\"\u001b[39m\u001b[33mdata\u001b[39m\u001b[33m\"\u001b[39m]\n\u001b[32m--> \u001b[39m\u001b[32m194\u001b[39m     \u001b[38;5;28;01mraise\u001b[39;00m ClientError(\n\u001b[32m    195\u001b[39m         status_code, err[\u001b[33m\"\u001b[39m\u001b[33mcode\u001b[39m\u001b[33m\"\u001b[39m], err[\u001b[33m\"\u001b[39m\u001b[33mmsg\u001b[39m\u001b[33m\"\u001b[39m], response.headers, error_data\n\u001b[32m    196\u001b[39m     )\n\u001b[32m    197\u001b[39m \u001b[38;5;28;01mraise\u001b[39;00m ServerError(status_code, response.text)\n",
      "\u001b[31mClientError\u001b[39m: (400, -1013, 'Filter failure: PERCENT_PRICE_BY_SIDE', {'Content-Type': 'application/json;charset=UTF-8', 'Content-Length': '60', 'Connection': 'keep-alive', 'Date': 'Tue, 03 Jun 2025 20:30:53 GMT', 'Expires': '0', 'Server': 'nginx', 'x-mbx-uuid': '83c5ce22-a1d8-4f1d-808b-625371bdacdb', 'x-mbx-used-weight': '1', 'x-mbx-used-weight-1m': '1', 'Strict-Transport-Security': 'max-age=31536000; includeSubdomains', 'X-Frame-Options': 'SAMEORIGIN', 'X-Xss-Protection': '1; mode=block', 'X-Content-Type-Options': 'nosniff', 'Content-Security-Policy': \"default-src 'self'\", 'X-Content-Security-Policy': \"default-src 'self'\", 'X-WebKit-CSP': \"default-src 'self'\", 'Cache-Control': 'no-cache, no-store, must-revalidate', 'Pragma': 'no-cache', 'X-Cache': 'Error from cloudfront', 'Via': '1.1 6f416aa4cef6162ee99c949a7aae323a.cloudfront.net (CloudFront)', 'X-Amz-Cf-Pop': 'ZRH55-P2', 'X-Amz-Cf-Id': 'YFuyQYPeULYXeLRNkJr3tB-iyruZFdIswzODyef1kziQv8YQzWO-NQ=='}, None)"
     ]
    }
   ],
   "source": [
    "order2 = client.new_order(\n",
    "    symbol='ETHUSDT',\n",
    "    side='SELL',\n",
    "    type='LIMIT',\n",
    "    timeInForce='GTC',\n",
    "    quantity=1,\n",
    "    price='10'\n",
    ")\n",
    "\n",
    "print(order2)"
   ]
  }
 ],
 "metadata": {
  "kernelspec": {
   "display_name": ".venv",
   "language": "python",
   "name": "python3"
  },
  "language_info": {
   "codemirror_mode": {
    "name": "ipython",
    "version": 3
   },
   "file_extension": ".py",
   "mimetype": "text/x-python",
   "name": "python",
   "nbconvert_exporter": "python",
   "pygments_lexer": "ipython3",
   "version": "3.13.3"
  }
 },
 "nbformat": 4,
 "nbformat_minor": 5
}
