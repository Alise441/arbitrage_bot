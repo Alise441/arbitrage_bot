{
 "cells": [
  {
   "cell_type": "code",
   "execution_count": 1,
   "id": "bacd8d08",
   "metadata": {},
   "outputs": [],
   "source": [
    "from config import config, load_abis\n",
    "from web3 import Web3\n",
    "from decimal import Decimal\n",
    "\n",
    "from uniswap_pool_helper import UniswapPoolHelper, Token"
   ]
  },
  {
   "cell_type": "code",
   "execution_count": 2,
   "id": "85ca8895",
   "metadata": {},
   "outputs": [
    {
     "name": "stdout",
     "output_type": "stream",
     "text": [
      "--- Initializing ---\n",
      "Connected to Sepolia Ethereum Network\n",
      "Testing with wallet: 0x876C756b92fcc4EB8F634dBe63f3394D97B081ba\n",
      "\n",
      "--- Testing Initialization ---\n",
      "Successfully initialized pool helper for pool: 0x3289680dD4d6C10bb19b899729cda5eEF58AEfF1\n",
      "Token 0: USDC (0x1c7D4B196Cb0C7B01d743Fbc6116a902379C7238)\n",
      "Token 1: WETH (0xfFf9976782d46CC05630D1f6eBAb18b2324d6B14)\n",
      "Pool Fee: 500\n"
     ]
    }
   ],
   "source": [
    "# -- Test Configuration (using a WETH/USDC pool on Sepolia) --\n",
    "# You can find other pools on the Uniswap Info site.\n",
    "pool_address = \"0x3289680dD4d6C10bb19b899729cda5eEF58AEfF1\" # WETH/USDC 0.05% on Sepolia\n",
    "\n",
    "# 1. Initialize Web3 and load ABIs\n",
    "print(\"--- Initializing ---\")\n",
    "w3 = Web3(Web3.HTTPProvider(\"https://eth-sepolia.public.blastapi.io\"))\n",
    "assert w3.is_connected(), \"Failed to connect to Sepolia Ethereum Network\"\n",
    "print(\"Connected to Sepolia Ethereum Network\")\n",
    "    \n",
    "abis = load_abis()\n",
    "print(f\"Testing with wallet: {config.WALLET_ADDRESS}\")\n",
    "\n",
    "# 2. Initialize the UniswapPoolHelper\n",
    "print(\"\\n--- Testing Initialization ---\")\n",
    "try:\n",
    "    pool_helper = UniswapPoolHelper(w3=w3, pool_address=pool_address, abis=abis)\n",
    "    print(f\"Successfully initialized pool helper for pool: {pool_address}\")\n",
    "    print(f\"Token 0: {pool_helper.token0.symbol} ({pool_helper.token0.address})\")\n",
    "    print(f\"Token 1: {pool_helper.token1.symbol} ({pool_helper.token1.address})\")\n",
    "    print(f\"Pool Fee: {pool_helper.fee}\")\n",
    "except Exception as e:\n",
    "    print(f\"Error initializing pool helper: {e}\")"
   ]
  },
  {
   "cell_type": "code",
   "execution_count": 3,
   "id": "6ebb50a0",
   "metadata": {},
   "outputs": [
    {
     "name": "stdout",
     "output_type": "stream",
     "text": [
      "\n",
      "--- Testing get_current_price ---\n",
      "Current Price: 1 USDC = 0.000034 WETH\n",
      "Current Price: 1 WETH = 29707.395208 USDC\n"
     ]
    }
   ],
   "source": [
    "# 3. Test `get_current_price`\n",
    "print(\"\\n--- Testing get_current_price ---\")\n",
    "try:\n",
    "    price_t0_in_t1 = pool_helper.get_current_price()\n",
    "    price_t1_in_t0 = pool_helper.get_current_price(reverse_price=True)\n",
    "    print(f\"Current Price: 1 {pool_helper.token0.symbol} = {price_t0_in_t1:.6f} {pool_helper.token1.symbol}\")\n",
    "    print(f\"Current Price: 1 {pool_helper.token1.symbol} = {price_t1_in_t0:.6f} {pool_helper.token0.symbol}\")\n",
    "except Exception as e:\n",
    "    print(f\"Error getting current price: {e}\")"
   ]
  },
  {
   "cell_type": "code",
   "execution_count": 4,
   "id": "f0e332e2",
   "metadata": {},
   "outputs": [
    {
     "name": "stdout",
     "output_type": "stream",
     "text": [
      "\n",
      "--- Testing get_sell_quote (Selling 1000 USDC) ---\n",
      "Quote received: Sell 1000 USDC to get 0.03363107 WETH\n",
      "  - Actual Price (WETH/USDC): 0.00003363\n",
      "  - New Pool Price after swap: 0.00003363\n",
      "  - Estimated Gas Fee: 0.0000000905 ETH\n"
     ]
    }
   ],
   "source": [
    "# 4. Test `get_sell_quote` (Selling USDC)\n",
    "amount_to_sell = Decimal(\"1000\")  # Amount of USDC to sell\n",
    "print(f\"\\n--- Testing get_sell_quote (Selling {amount_to_sell} {pool_helper.token0.symbol}) ---\")\n",
    "try:\n",
    "    token_to_sell = pool_helper.token0 \n",
    "    token_to_receive = pool_helper.token1\n",
    "\n",
    "    amount_out, new_price, actual_price, gas_fee = pool_helper.get_sell_quote(\n",
    "        token_in=token_to_sell,\n",
    "        amount_in=amount_to_sell,\n",
    "        quoter_address=config.QUOTER_ADDRESS_SEPOLIA\n",
    "    )\n",
    "    print(f\"Quote received: Sell {amount_to_sell} {token_to_sell.symbol} to get {amount_out:.8f} {token_to_receive.symbol}\")\n",
    "    print(f\"  - Actual Price ({token_to_receive.symbol}/{token_to_sell.symbol}): {actual_price:.8f}\")\n",
    "    print(f\"  - New Pool Price after swap: {new_price:.8f}\")\n",
    "    print(f\"  - Estimated Gas Fee: {gas_fee:.10f} ETH\")\n",
    "except Exception as e:\n",
    "    print(f\"Error getting sell quote: {e}\")"
   ]
  },
  {
   "cell_type": "code",
   "execution_count": 5,
   "id": "01535f53",
   "metadata": {},
   "outputs": [
    {
     "name": "stdout",
     "output_type": "stream",
     "text": [
      "\n",
      "--- Testing get_sell_quote (Selling 0.01 WETH) ---\n",
      "Quote received: Sell 0.01 WETH to get 296.88935000 USDC\n",
      "  - Actual Price (USDC/WETH): 29688.93500000\n",
      "  - New Pool Price after swap: 29700.17908891\n",
      "  - Estimated Gas Fee: 0.0000000934 ETH\n"
     ]
    }
   ],
   "source": [
    "# 5. Test `get_sell_quote` (Selling WETH)\n",
    "amount_to_sell = Decimal(\"0.01\")  # Amount of WETH to sell\n",
    "print(f\"\\n--- Testing get_sell_quote (Selling {amount_to_sell} {pool_helper.token1.symbol}) ---\")\n",
    "try:\n",
    "    token_to_sell = pool_helper.token1\n",
    "    token_to_receive = pool_helper.token0\n",
    "\n",
    "    amount_out, new_price, actual_price, gas_fee = pool_helper.get_sell_quote(\n",
    "        token_in=token_to_sell,\n",
    "        amount_in=amount_to_sell,\n",
    "        quoter_address=config.QUOTER_ADDRESS_SEPOLIA\n",
    "    )\n",
    "    print(f\"Quote received: Sell {amount_to_sell} {token_to_sell.symbol} to get {amount_out:.8f} {token_to_receive.symbol}\")\n",
    "    print(f\"  - Actual Price ({token_to_receive.symbol}/{token_to_sell.symbol}): {actual_price:.8f}\")\n",
    "    print(f\"  - New Pool Price after swap: {new_price:.8f}\")\n",
    "    print(f\"  - Estimated Gas Fee: {gas_fee:.10f} ETH\")\n",
    "except Exception as e:\n",
    "    print(f\"Error getting sell quote: {e}\")"
   ]
  },
  {
   "cell_type": "code",
   "execution_count": 6,
   "id": "5328007e",
   "metadata": {},
   "outputs": [
    {
     "name": "stdout",
     "output_type": "stream",
     "text": [
      "\n",
      "--- Testing get_buy_quote (Buying 1000 USDC) ---\n",
      "Quote received: Buy 1000 USDC for 0.03369228 WETH\n",
      "  - Actual Price (WETH/USDC): 0.00003369\n",
      "  - New Pool Price after swap: 0.00003369\n",
      "  - Estimated Gas Fee: 0.0000000943 ETH\n"
     ]
    }
   ],
   "source": [
    "# 6. Test `get_buy_quote` (Buying USDC)\n",
    "amount_to_buy = Decimal(\"1000\")  # Amount of USDC to buy\n",
    "print(f\"\\n--- Testing get_buy_quote (Buying {amount_to_buy} {pool_helper.token0.symbol}) ---\")\n",
    "try:\n",
    "    token_to_buy = pool_helper.token0 \n",
    "    token_to_pay = pool_helper.token1\n",
    "\n",
    "    amount_in, new_price, actual_price, gas_fee = pool_helper.get_buy_quote(\n",
    "        token_out=token_to_buy,\n",
    "        amount_out=amount_to_buy,\n",
    "        quoter_address=config.QUOTER_ADDRESS_SEPOLIA\n",
    "    )\n",
    "    print(f\"Quote received: Buy {amount_to_buy} {token_to_buy.symbol} for {amount_in:.8f} {token_to_pay.symbol}\")\n",
    "    print(f\"  - Actual Price ({token_to_pay.symbol}/{token_to_buy.symbol}): {actual_price:.8f}\")\n",
    "    print(f\"  - New Pool Price after swap: {new_price:.8f}\")\n",
    "    print(f\"  - Estimated Gas Fee: {gas_fee:.10f} ETH\")\n",
    "except Exception as e:\n",
    "    print(f\"Error getting buy quote: {e}\")"
   ]
  },
  {
   "cell_type": "code",
   "execution_count": 7,
   "id": "d5c086dd",
   "metadata": {},
   "outputs": [
    {
     "name": "stdout",
     "output_type": "stream",
     "text": [
      "\n",
      "--- Testing get_buy_quote (Buying 0.0001 WETH) ---\n",
      "Quote received: Buy 0.0001 WETH for 2.97223100 USDC\n",
      "  - Actual Price (USDC/WETH): 29722.31000000\n",
      "  - New Pool Price after swap: 29707.46741853\n",
      "  - Estimated Gas Fee: 0.0000000813 ETH\n"
     ]
    }
   ],
   "source": [
    "# 7. Test `get_buy_quote` (Buying WETH)\n",
    "amount_to_buy = Decimal(\"0.0001\")  # Amount of WETH to buy\n",
    "print(f\"\\n--- Testing get_buy_quote (Buying {amount_to_buy} {pool_helper.token1.symbol}) ---\")\n",
    "try:\n",
    "    token_to_buy = pool_helper.token1\n",
    "    token_to_pay = pool_helper.token0\n",
    "\n",
    "    amount_in, new_price, actual_price, gas_fee = pool_helper.get_buy_quote(\n",
    "        token_out=token_to_buy,\n",
    "        amount_out=amount_to_buy,\n",
    "        quoter_address=config.QUOTER_ADDRESS_SEPOLIA\n",
    "    )\n",
    "    print(f\"Quote received: Buy {amount_to_buy} {token_to_buy.symbol} for {amount_in:.8f} {token_to_pay.symbol}\")\n",
    "    print(f\"  - Actual Price ({token_to_pay.symbol}/{token_to_buy.symbol}): {actual_price:.8f}\")\n",
    "    print(f\"  - New Pool Price after swap: {new_price:.8f}\")\n",
    "    print(f\"  - Estimated Gas Fee: {gas_fee:.10f} ETH\")\n",
    "except Exception as e:\n",
    "    print(f\"Error getting buy quote: {e}\")"
   ]
  },
  {
   "cell_type": "code",
   "execution_count": 8,
   "id": "2f035f08",
   "metadata": {},
   "outputs": [
    {
     "name": "stdout",
     "output_type": "stream",
     "text": [
      "\n",
      "--- Testing `sell` transaction (Commented Out by Default) ---\n",
      "This test will execute a REAL transaction. Ensure you are on a testnet and have funds.\n",
      "Sell transaction successful! Transaction Hash: 0x29e94c6de328ea8e9e3a29f44a1b7b563247afcdede7fd862379c2572edc740c\n",
      "View on Sepolia Etherscan: https://sepolia.etherscan.io/tx/0x29e94c6de328ea8e9e3a29f44a1b7b563247afcdede7fd862379c2572edc740c\n"
     ]
    }
   ],
   "source": [
    "# 8. Test `sell` transaction\n",
    "# !!! WARNING: This will execute a real transaction on the Sepolia testnet !!!\n",
    "# !!! It requires your wallet to have a sufficient WETH and ETH (for gas) balance. !!!\n",
    "print(\"\\n--- Testing `sell` transaction (Commented Out by Default) ---\")\n",
    "\n",
    "amount_to_sell_weth = Decimal(\"0.00001\")  # Amount of WETH to sell\n",
    "\n",
    "print(\"This test will execute a REAL transaction. Ensure you are on a testnet and have funds.\")\n",
    "confirm = input(\"Do you want to proceed with the live sell transaction test? (y/n): \").lower()\n",
    "if confirm == 'y':\n",
    "    try:\n",
    "        # Ensure all required config values are present\n",
    "        if not all([config.WALLET_ADDRESS, config.WALLET_PRIVATE_KEY]):\n",
    "            print(\"Error: WALLET_ADDRESS and WALLET_PRIVATE_KEY must be set in your .env file to execute a transaction.\")\n",
    "            raise ValueError(\"Missing wallet configuration.\")\n",
    "\n",
    "        slippage = Decimal(\"0.01\") # 1% slippage tolerance\n",
    "\n",
    "        tx_hash = pool_helper.sell(\n",
    "            token_in=pool_helper.token1, # Selling WETH\n",
    "            amount_in=amount_to_sell_weth,\n",
    "            recipient_address=config.WALLET_ADDRESS,\n",
    "            private_key=config.WALLET_PRIVATE_KEY,\n",
    "            slippage=slippage,\n",
    "            quoter_address=config.QUOTER_ADDRESS_SEPOLIA,\n",
    "            router_address=config.ROUTER_ADDRESS_SEPOLIA\n",
    "        )\n",
    "\n",
    "        if tx_hash:\n",
    "            print(f\"Sell transaction successful! Transaction Hash: 0x{tx_hash}\")\n",
    "            print(f\"View on Sepolia Etherscan: https://sepolia.etherscan.io/tx/0x{tx_hash}\")\n",
    "\n",
    "    except Exception as e:\n",
    "        print(f\"Error executing sell transaction: {e}\")\n",
    "else:\n",
    "    print(\"Live transaction test skipped.\")"
   ]
  },
  {
   "cell_type": "code",
   "execution_count": 9,
   "id": "9a5d08e4",
   "metadata": {},
   "outputs": [
    {
     "name": "stdout",
     "output_type": "stream",
     "text": [
      "\n",
      "--- Testing `buy` transaction (Commented Out by Default) ---\n",
      "This test will execute a REAL transaction. Ensure you are on a testnet and have funds.\n",
      "Buy transaction successful! Transaction Hash: 0xd0af248e81847fe5deaa4da43a965dca9acdef72b4ffd98b37ebe4151a07a51d\n",
      "View on Sepolia Etherscan: https://sepolia.etherscan.io/tx/0xd0af248e81847fe5deaa4da43a965dca9acdef72b4ffd98b37ebe4151a07a51d\n"
     ]
    }
   ],
   "source": [
    "# 9. Test `buy` transaction\n",
    "# !!! WARNING: This will execute a real transaction on the Sepolia testnet !!!\n",
    "# !!! It requires your wallet to have a sufficient WETH and ETH (for gas) balance. !!!\n",
    "print(\"\\n--- Testing `buy` transaction (Commented Out by Default) ---\")\n",
    "\n",
    "amount_to_buy_weth = Decimal(\"0.00001\")  # Amount of WETH to buy\n",
    "\n",
    "print(\"This test will execute a REAL transaction. Ensure you are on a testnet and have funds.\")\n",
    "confirm = input(\"Do you want to proceed with the live buy transaction test? (y/n): \").lower()\n",
    "if confirm == 'y':\n",
    "    try:\n",
    "        # Ensure all required config values are present\n",
    "        if not all([config.WALLET_ADDRESS, config.WALLET_PRIVATE_KEY]):\n",
    "            print(\"Error: WALLET_ADDRESS and WALLET_PRIVATE_KEY must be set in your .env file to execute a transaction.\")\n",
    "            raise ValueError(\"Missing wallet configuration.\")\n",
    "\n",
    "        slippage = Decimal(\"0.01\") # 1% slippage tolerance\n",
    "\n",
    "        tx_hash = pool_helper.buy(\n",
    "            token_out=pool_helper.token1, # Buying WETH\n",
    "            amount_out=amount_to_buy_weth,\n",
    "            recipient_address=config.WALLET_ADDRESS,\n",
    "            private_key=config.WALLET_PRIVATE_KEY,\n",
    "            slippage=slippage,\n",
    "            quoter_address=config.QUOTER_ADDRESS_SEPOLIA,\n",
    "            router_address=config.ROUTER_ADDRESS_SEPOLIA\n",
    "        )\n",
    "\n",
    "        if tx_hash:\n",
    "            print(f\"Buy transaction successful! Transaction Hash: 0x{tx_hash}\")\n",
    "            print(f\"View on Sepolia Etherscan: https://sepolia.etherscan.io/tx/0x{tx_hash}\")\n",
    "\n",
    "    except Exception as e:\n",
    "        print(f\"Error executing buy transaction: {e}\")\n",
    "else:\n",
    "    print(\"Live transaction test skipped.\")"
   ]
  },
  {
   "cell_type": "code",
   "execution_count": 10,
   "id": "c1626f9f",
   "metadata": {},
   "outputs": [
    {
     "name": "stdout",
     "output_type": "stream",
     "text": [
      "\n",
      "--- Testing `sell` transaction (Commented Out by Default) ---\n",
      "This test will execute a REAL transaction. Ensure you are on a testnet and have funds.\n",
      "Sell transaction successful! Transaction Hash: 0x86a7aad0d5ec7b0e45d8f4e85c53234f3d5c879a2aec3ddc74a42bed2652d22f\n",
      "View on Sepolia Etherscan: https://sepolia.etherscan.io/tx/0x86a7aad0d5ec7b0e45d8f4e85c53234f3d5c879a2aec3ddc74a42bed2652d22f\n"
     ]
    }
   ],
   "source": [
    "# 10. Test `sell` transaction\n",
    "# !!! WARNING: This will execute a real transaction on the Sepolia testnet !!!\n",
    "# !!! It requires your wallet to have a sufficient WETH and ETH (for gas) balance. !!!\n",
    "print(\"\\n--- Testing `sell` transaction (Commented Out by Default) ---\")\n",
    "\n",
    "amount_to_sell_usdc = Decimal(\"1\")  # Amount of USDC to sell\n",
    "\n",
    "print(\"This test will execute a REAL transaction. Ensure you are on a testnet and have funds.\")\n",
    "confirm = input(\"Do you want to proceed with the live sell transaction test? (y/n): \").lower()\n",
    "if confirm == 'y':\n",
    "    try:\n",
    "        # Ensure all required config values are present\n",
    "        if not all([config.WALLET_ADDRESS, config.WALLET_PRIVATE_KEY]):\n",
    "            print(\"Error: WALLET_ADDRESS and WALLET_PRIVATE_KEY must be set in your .env file to execute a transaction.\")\n",
    "            raise ValueError(\"Missing wallet configuration.\")\n",
    "\n",
    "        slippage = Decimal(\"0.01\") # 1% slippage tolerance\n",
    "\n",
    "        tx_hash = pool_helper.sell(\n",
    "            token_in=pool_helper.token0, # Selling USDC\n",
    "            amount_in=amount_to_sell_usdc,\n",
    "            recipient_address=config.WALLET_ADDRESS,\n",
    "            private_key=config.WALLET_PRIVATE_KEY,\n",
    "            slippage=slippage,\n",
    "            quoter_address=config.QUOTER_ADDRESS_SEPOLIA,\n",
    "            router_address=config.ROUTER_ADDRESS_SEPOLIA\n",
    "        )\n",
    "\n",
    "        if tx_hash:\n",
    "            print(f\"Sell transaction successful! Transaction Hash: 0x{tx_hash}\")\n",
    "            print(f\"View on Sepolia Etherscan: https://sepolia.etherscan.io/tx/0x{tx_hash}\")\n",
    "\n",
    "    except Exception as e:\n",
    "        print(f\"Error executing sell transaction: {e}\")\n",
    "else:\n",
    "    print(\"Live transaction test skipped.\")"
   ]
  },
  {
   "cell_type": "code",
   "execution_count": 11,
   "id": "f0e92ce7",
   "metadata": {},
   "outputs": [
    {
     "name": "stdout",
     "output_type": "stream",
     "text": [
      "\n",
      "--- Testing `buy` transaction (Commented Out by Default) ---\n",
      "This test will execute a REAL transaction. Ensure you are on a testnet and have funds.\n",
      "Buy transaction successful! Transaction Hash: 0xaab83f8946df893760e17447293112e05226193974d0fb0abfd0a8856c9ee44e\n",
      "View on Sepolia Etherscan: https://sepolia.etherscan.io/tx/0xaab83f8946df893760e17447293112e05226193974d0fb0abfd0a8856c9ee44e\n"
     ]
    }
   ],
   "source": [
    "# 11. Test `sell` transaction\n",
    "# !!! WARNING: This will execute a real transaction on the Sepolia testnet !!!\n",
    "# !!! It requires your wallet to have a sufficient WETH and ETH (for gas) balance. !!!\n",
    "print(\"\\n--- Testing `buy` transaction (Commented Out by Default) ---\")\n",
    "\n",
    "amount_to_buy_usdc = Decimal(\"1\")  # Amount of USDC to buy\n",
    "\n",
    "print(\"This test will execute a REAL transaction. Ensure you are on a testnet and have funds.\")\n",
    "confirm = input(\"Do you want to proceed with the live buy transaction test? (y/n): \").lower()\n",
    "if confirm == 'y':\n",
    "    try:\n",
    "        # Ensure all required config values are present\n",
    "        if not all([config.WALLET_ADDRESS, config.WALLET_PRIVATE_KEY]):\n",
    "            print(\"Error: WALLET_ADDRESS and WALLET_PRIVATE_KEY must be set in your .env file to execute a transaction.\")\n",
    "            raise ValueError(\"Missing wallet configuration.\")\n",
    "\n",
    "        slippage = Decimal(\"0.01\") # 1% slippage tolerance\n",
    "\n",
    "        tx_hash = pool_helper.buy(\n",
    "            token_out=pool_helper.token0, # Buying USDC\n",
    "            amount_out=amount_to_buy_usdc,\n",
    "            recipient_address=config.WALLET_ADDRESS,\n",
    "            private_key=config.WALLET_PRIVATE_KEY,\n",
    "            slippage=slippage,\n",
    "            quoter_address=config.QUOTER_ADDRESS_SEPOLIA,\n",
    "            router_address=config.ROUTER_ADDRESS_SEPOLIA\n",
    "        )\n",
    "\n",
    "        if tx_hash:\n",
    "            print(f\"Buy transaction successful! Transaction Hash: 0x{tx_hash}\")\n",
    "            print(f\"View on Sepolia Etherscan: https://sepolia.etherscan.io/tx/0x{tx_hash}\")\n",
    "\n",
    "    except Exception as e:\n",
    "        print(f\"Error executing buy transaction: {e}\")\n",
    "else:\n",
    "    print(\"Live transaction test skipped.\")"
   ]
  }
 ],
 "metadata": {
  "kernelspec": {
   "display_name": ".venv",
   "language": "python",
   "name": "python3"
  },
  "language_info": {
   "codemirror_mode": {
    "name": "ipython",
    "version": 3
   },
   "file_extension": ".py",
   "mimetype": "text/x-python",
   "name": "python",
   "nbconvert_exporter": "python",
   "pygments_lexer": "ipython3",
   "version": "3.13.3"
  }
 },
 "nbformat": 4,
 "nbformat_minor": 5
}
