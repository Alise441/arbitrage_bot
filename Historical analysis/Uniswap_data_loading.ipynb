{
 "cells": [
  {
   "cell_type": "code",
   "execution_count": 1,
   "id": "6f60c2d4",
   "metadata": {},
   "outputs": [],
   "source": [
    "# imports\n",
    "import requests\n",
    "import pandas as pd\n",
    "import time\n",
    "import datetime\n",
    "import config"
   ]
  },
  {
   "cell_type": "code",
   "execution_count": 2,
   "id": "c32e36f1",
   "metadata": {},
   "outputs": [],
   "source": [
    "# your GraphQL API endpoint and headers (replace with your actual API key and URL)\n",
    "SUBGRAPH_URL = config.SUBGRAPH_URL\n",
    "headers = config.HEADERS\n",
    "# amount to fetch with each request\n",
    "BATCH_SIZE = 1000"
   ]
  },
  {
   "cell_type": "code",
   "execution_count": null,
   "id": "c79006b8",
   "metadata": {},
   "outputs": [],
   "source": [
    "# function to fetch swaps with request to subgraph \n",
    "\n",
    "def fetch_swaps(pool_address, timestamp_gte=None, timestamp_lte=None, skip=0):\n",
    "    filters = [f'pool: \"{pool_address}\"']\n",
    "    # some defensive coding\n",
    "    if timestamp_gte is not None:\n",
    "        filters.append(f'timestamp_gte: {timestamp_gte}')\n",
    "    if timestamp_lte is not None:\n",
    "        filters.append(f'timestamp_lte: {timestamp_lte}')\n",
    "    filters_str = \", \".join(filters)\n",
    "\n",
    "# query for subgraph\n",
    "    query = f\"\"\"\n",
    "    {{\n",
    "      swaps(first: {BATCH_SIZE}, skip: {skip}, orderBy: timestamp, orderDirection: asc, where: {{ {filters_str} }}) {{\n",
    "        id\n",
    "        timestamp\n",
    "        sqrtPriceX96\n",
    "        amount0\n",
    "        amount1\n",
    "        amountUSD\n",
    "        tick\n",
    "      }}\n",
    "    }}\n",
    "    \"\"\"\n",
    "    res = requests.post(SUBGRAPH_URL, json={\"query\": query}, headers=headers)\n",
    "    res_json = res.json()\n",
    "    if \"errors\" in res_json:\n",
    "        raise Exception(res_json[\"errors\"])\n",
    "    return res_json[\"data\"][\"swaps\"]"
   ]
  },
  {
   "cell_type": "code",
   "execution_count": null,
   "id": "5a470044",
   "metadata": {},
   "outputs": [],
   "source": [
    "# amount of trades is really large (for ETH/USDC), so we've added backup for the sake of not loosing progress if something goes \n",
    "# wrapper for download of swaps\n",
    "\n",
    "def download_all_swaps(pool_address, timestamp_gte, timestamp_lte):\n",
    "    all_swaps = []\n",
    "    skip = 0\n",
    "    try:\n",
    "        while True:\n",
    "            swaps = fetch_swaps(pool_address, timestamp_gte, timestamp_lte, skip)\n",
    "            if not swaps:\n",
    "                break\n",
    "            all_swaps.extend(swaps)\n",
    "            skip += BATCH_SIZE\n",
    "            last_swap_time = datetime.datetime.utcfromtimestamp(int(swaps[-1][\"timestamp\"]))\n",
    "            # to track progress\n",
    "            print(f\"Downloaded {len(all_swaps)} swaps so far... Last swap at: {last_swap_time} UTC\")\n",
    "            time.sleep(0.2)\n",
    "    # if something goes wrong - save data\n",
    "    except Exception as e:\n",
    "        print(\"Error occurred while fetching swaps:\", e)\n",
    "        print(\"Saving progress to swaps_backup.csv\")\n",
    "        pd.DataFrame(all_swaps).to_csv(\"swaps_backup.csv\", index=False)\n",
    "        raise\n",
    "    return all_swaps"
   ]
  },
  {
   "cell_type": "code",
   "execution_count": null,
   "id": "78d0f0c0",
   "metadata": {},
   "outputs": [],
   "source": [
    "\n",
    "# fetching data for USDC/WETH\n",
    "# pool address\n",
    "POOL_ADDRESS = \"0x88e6a0c2ddd26feeb64f039a2c41296fcb3f5640\" # USDC/WETH 0.05%\n",
    "\n",
    "if __name__ == \"__main__\":\n",
    "    start_date = datetime.datetime(2024, 5, 1, 0, 0)\n",
    "    end_date = datetime.datetime(2025, 5, 1, 0, 0)\n",
    "    start_ts = int(start_date.timestamp())\n",
    "    end_ts = int(end_date.timestamp())\n",
    "\n",
    "    print(f\"Downloading swaps from {start_date} to {end_date}...\")\n",
    "\n",
    "    swaps = download_all_swaps(POOL_ADDRESS, start_ts, end_ts)\n",
    "\n",
    "    df = pd.DataFrame(swaps)\n"
   ]
  },
  {
   "cell_type": "code",
   "execution_count": null,
   "id": "89c7a70a",
   "metadata": {},
   "outputs": [],
   "source": [
    "# save data\n",
    "df.to_csv(\"uniswap_v3_swaps_ETH_USDC_005.csv\", index=False)\n",
    "print(f\"Saved {len(df)} swaps to uniswap_v3_swaps_ETH_USDC_005.csv\")"
   ]
  },
  {
   "cell_type": "code",
   "execution_count": null,
   "id": "80cf1471",
   "metadata": {},
   "outputs": [],
   "source": [
    "# fetching trades for USDC/USDT\n",
    "# pool address\n",
    "POOL_ADDRESS = \"0x3416cf6c708da44db2624d63ea0aaef7113527c6\"  # USDC/USDT 0.01%\n",
    "# amount to fetch each time\n",
    "BATCH_SIZE = 1000\n",
    "\n",
    "if __name__ == \"__main__\":\n",
    "    start_date = datetime.datetime(2024, 5, 1, 0, 0)\n",
    "    end_date = datetime.datetime(2025, 5, 1, 0, 0)\n",
    "    start_ts = int(start_date.timestamp())\n",
    "    end_ts = int(end_date.timestamp())\n",
    "\n",
    "    print(f\"Downloading swaps from {start_date} to {end_date}...\")\n",
    "\n",
    "    swaps = download_all_swaps(POOL_ADDRESS, start_ts, end_ts)\n",
    "\n",
    "    df = pd.DataFrame(swaps)\n",
    "\n"
   ]
  },
  {
   "cell_type": "code",
   "execution_count": null,
   "id": "6dd14a71",
   "metadata": {},
   "outputs": [],
   "source": [
    "# save data\n",
    "df.to_csv(\"uniswap_v3_swaps_USDC_USDT_001.csv\", index=False)\n",
    "\n",
    "print(f\"Saved {len(df)} swaps to uniswap_v3_swaps_USDC_USDT_001.csv\")"
   ]
  },
  {
   "cell_type": "code",
   "execution_count": null,
   "id": "0d8149cf",
   "metadata": {},
   "outputs": [],
   "source": [
    "# fetching trades for PEPE/ETH\n",
    "POOL_ADDRESS = \"0x11950d141ecb863f01007add7d1a342041227b58\"  # PEPE/ETH 0.3%\n",
    "BATCH_SIZE = 1000\n",
    "\n",
    "if __name__ == \"__main__\":\n",
    "    start_date = datetime.datetime(2024, 5, 1, 0, 0)\n",
    "    end_date = datetime.datetime(2025, 5, 1, 0, 0)\n",
    "    start_ts = int(start_date.timestamp())\n",
    "    end_ts = int(end_date.timestamp())\n",
    "\n",
    "    print(f\"Downloading swaps from {start_date} to {end_date}...\")\n",
    "\n",
    "    swaps = download_all_swaps(POOL_ADDRESS, start_ts, end_ts)\n",
    "\n",
    "    df = pd.DataFrame(swaps)\n",
    "\n"
   ]
  },
  {
   "cell_type": "code",
   "execution_count": null,
   "id": "af7b7d73",
   "metadata": {},
   "outputs": [],
   "source": [
    "# save data\n",
    "df.to_csv(\"uniswap_v3_swaps_PEPE_ETH_03.csv\", index=False)\n",
    "\n",
    "print(f\"Saved {len(df)} swaps to uniswap_v3_swaps_PEPE_ETH_03.csv\")"
   ]
  }
 ],
 "metadata": {
  "kernelspec": {
   "display_name": "Python 3",
   "language": "python",
   "name": "python3"
  },
  "language_info": {
   "codemirror_mode": {
    "name": "ipython",
    "version": 3
   },
   "file_extension": ".py",
   "mimetype": "text/x-python",
   "name": "python",
   "nbconvert_exporter": "python",
   "pygments_lexer": "ipython3",
   "version": "3.12.1"
  }
 },
 "nbformat": 4,
 "nbformat_minor": 5
}
