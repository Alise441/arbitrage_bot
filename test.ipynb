{
 "cells": [
  {
   "cell_type": "code",
   "execution_count": 2,
   "id": "d3e1cb2a",
   "metadata": {},
   "outputs": [
    {
     "name": "stdout",
     "output_type": "stream",
     "text": [
      "Current ask price for ETH/USDC: 2657.84\n"
     ]
    }
   ],
   "source": [
    "import ccxt\n",
    "\n",
    "exchange = ccxt.binance()\n",
    "\n",
    "ask_price = exchange.fetch_ticker('ETH/USDC')['ask']\n",
    "print(f\"Current ask price for ETH/USDC: {ask_price}\")\n"
   ]
  }
 ],
 "metadata": {
  "kernelspec": {
   "display_name": ".venv",
   "language": "python",
   "name": "python3"
  },
  "language_info": {
   "codemirror_mode": {
    "name": "ipython",
    "version": 3
   },
   "file_extension": ".py",
   "mimetype": "text/x-python",
   "name": "python",
   "nbconvert_exporter": "python",
   "pygments_lexer": "ipython3",
   "version": "3.13.3"
  }
 },
 "nbformat": 4,
 "nbformat_minor": 5
}
